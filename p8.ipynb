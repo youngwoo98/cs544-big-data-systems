{
 "cells": [
  {
   "cell_type": "code",
   "execution_count": 1,
   "id": "23197e3c-1bbf-4646-a565-339aff9abfb7",
   "metadata": {},
   "outputs": [],
   "source": [
    "from google.cloud import bigquery\n",
    "bq = bigquery.Client()"
   ]
  },
  {
   "cell_type": "code",
   "execution_count": 2,
   "id": "03c82e92-7c1a-4d7e-8700-f32aebaa2f66",
   "metadata": {},
   "outputs": [],
   "source": [
    "import pandas as pd"
   ]
  },
  {
   "cell_type": "code",
   "execution_count": 3,
   "id": "2dfc460c-a588-4306-b9e5-108d27db9cd3",
   "metadata": {
    "scrolled": true
   },
   "outputs": [
    {
     "data": {
      "text/html": [
       "<div>\n",
       "<style scoped>\n",
       "    .dataframe tbody tr th:only-of-type {\n",
       "        vertical-align: middle;\n",
       "    }\n",
       "\n",
       "    .dataframe tbody tr th {\n",
       "        vertical-align: top;\n",
       "    }\n",
       "\n",
       "    .dataframe thead th {\n",
       "        text-align: right;\n",
       "    }\n",
       "</style>\n",
       "<table border=\"1\" class=\"dataframe\">\n",
       "  <thead>\n",
       "    <tr style=\"text-align: right;\">\n",
       "      <th></th>\n",
       "      <th>geo_id</th>\n",
       "      <th>state_fips_code</th>\n",
       "      <th>county_fips_code</th>\n",
       "      <th>county_gnis_code</th>\n",
       "      <th>county_name</th>\n",
       "      <th>lsad_name</th>\n",
       "      <th>lsad_code</th>\n",
       "      <th>fips_class_code</th>\n",
       "      <th>mtfcc_feature_class_code</th>\n",
       "      <th>csa_fips_code</th>\n",
       "      <th>cbsa_fips_code</th>\n",
       "      <th>met_div_fips_code</th>\n",
       "      <th>functional_status</th>\n",
       "      <th>area_land_meters</th>\n",
       "      <th>area_water_meters</th>\n",
       "      <th>int_point_lat</th>\n",
       "      <th>int_point_lon</th>\n",
       "      <th>int_point_geom</th>\n",
       "      <th>county_geom</th>\n",
       "    </tr>\n",
       "  </thead>\n",
       "  <tbody>\n",
       "    <tr>\n",
       "      <th>0</th>\n",
       "      <td>01011</td>\n",
       "      <td>01</td>\n",
       "      <td>01011</td>\n",
       "      <td>00161531</td>\n",
       "      <td>Bullock</td>\n",
       "      <td>Bullock County</td>\n",
       "      <td>06</td>\n",
       "      <td>H1</td>\n",
       "      <td>G4020</td>\n",
       "      <td>None</td>\n",
       "      <td>None</td>\n",
       "      <td>None</td>\n",
       "      <td>A</td>\n",
       "      <td>1613076054</td>\n",
       "      <td>6038093</td>\n",
       "      <td>32.101759</td>\n",
       "      <td>-85.717261</td>\n",
       "      <td>POINT(-85.7172613 32.1017589)</td>\n",
       "      <td>POLYGON((-85.926296 32.054676, -85.920111 32.0...</td>\n",
       "    </tr>\n",
       "    <tr>\n",
       "      <th>1</th>\n",
       "      <td>01025</td>\n",
       "      <td>01</td>\n",
       "      <td>01025</td>\n",
       "      <td>00161538</td>\n",
       "      <td>Clarke</td>\n",
       "      <td>Clarke County</td>\n",
       "      <td>06</td>\n",
       "      <td>H1</td>\n",
       "      <td>G4020</td>\n",
       "      <td>None</td>\n",
       "      <td>None</td>\n",
       "      <td>None</td>\n",
       "      <td>A</td>\n",
       "      <td>3207494106</td>\n",
       "      <td>36657891</td>\n",
       "      <td>31.685521</td>\n",
       "      <td>-87.818624</td>\n",
       "      <td>POINT(-87.8186244 31.6855211)</td>\n",
       "      <td>POLYGON((-88.080207 31.677064, -88.080058 31.6...</td>\n",
       "    </tr>\n",
       "    <tr>\n",
       "      <th>2</th>\n",
       "      <td>01027</td>\n",
       "      <td>01</td>\n",
       "      <td>01027</td>\n",
       "      <td>00161539</td>\n",
       "      <td>Clay</td>\n",
       "      <td>Clay County</td>\n",
       "      <td>06</td>\n",
       "      <td>H1</td>\n",
       "      <td>G4020</td>\n",
       "      <td>None</td>\n",
       "      <td>None</td>\n",
       "      <td>None</td>\n",
       "      <td>A</td>\n",
       "      <td>1564251834</td>\n",
       "      <td>5285207</td>\n",
       "      <td>33.270400</td>\n",
       "      <td>-85.863525</td>\n",
       "      <td>POINT(-85.8635254 33.2703999)</td>\n",
       "      <td>POLYGON((-85.978793 33.327568, -85.978797 33.3...</td>\n",
       "    </tr>\n",
       "    <tr>\n",
       "      <th>3</th>\n",
       "      <td>01029</td>\n",
       "      <td>01</td>\n",
       "      <td>01029</td>\n",
       "      <td>00161540</td>\n",
       "      <td>Cleburne</td>\n",
       "      <td>Cleburne County</td>\n",
       "      <td>06</td>\n",
       "      <td>H1</td>\n",
       "      <td>G4020</td>\n",
       "      <td>None</td>\n",
       "      <td>None</td>\n",
       "      <td>None</td>\n",
       "      <td>A</td>\n",
       "      <td>1450663786</td>\n",
       "      <td>2354896</td>\n",
       "      <td>33.671964</td>\n",
       "      <td>-85.516126</td>\n",
       "      <td>POINT(-85.5161261 33.6719637)</td>\n",
       "      <td>POLYGON((-85.603465 33.788474, -85.603469 33.7...</td>\n",
       "    </tr>\n",
       "    <tr>\n",
       "      <th>4</th>\n",
       "      <td>01111</td>\n",
       "      <td>01</td>\n",
       "      <td>01111</td>\n",
       "      <td>00161582</td>\n",
       "      <td>Randolph</td>\n",
       "      <td>Randolph County</td>\n",
       "      <td>06</td>\n",
       "      <td>H1</td>\n",
       "      <td>G4020</td>\n",
       "      <td>None</td>\n",
       "      <td>None</td>\n",
       "      <td>None</td>\n",
       "      <td>A</td>\n",
       "      <td>1503615937</td>\n",
       "      <td>9285420</td>\n",
       "      <td>33.296475</td>\n",
       "      <td>-85.464068</td>\n",
       "      <td>POINT(-85.4640679 33.2964753)</td>\n",
       "      <td>POLYGON((-85.648139 33.359095, -85.648165 33.3...</td>\n",
       "    </tr>\n",
       "    <tr>\n",
       "      <th>5</th>\n",
       "      <td>01075</td>\n",
       "      <td>01</td>\n",
       "      <td>01075</td>\n",
       "      <td>00161563</td>\n",
       "      <td>Lamar</td>\n",
       "      <td>Lamar County</td>\n",
       "      <td>06</td>\n",
       "      <td>H1</td>\n",
       "      <td>G4020</td>\n",
       "      <td>None</td>\n",
       "      <td>None</td>\n",
       "      <td>None</td>\n",
       "      <td>A</td>\n",
       "      <td>1566544637</td>\n",
       "      <td>1600679</td>\n",
       "      <td>33.787085</td>\n",
       "      <td>-88.087431</td>\n",
       "      <td>POINT(-88.0874309 33.7870852)</td>\n",
       "      <td>POLYGON((-88.24154 33.802962, -88.241641 33.80...</td>\n",
       "    </tr>\n",
       "    <tr>\n",
       "      <th>6</th>\n",
       "      <td>01019</td>\n",
       "      <td>01</td>\n",
       "      <td>01019</td>\n",
       "      <td>00161535</td>\n",
       "      <td>Cherokee</td>\n",
       "      <td>Cherokee County</td>\n",
       "      <td>06</td>\n",
       "      <td>H1</td>\n",
       "      <td>G4020</td>\n",
       "      <td>None</td>\n",
       "      <td>None</td>\n",
       "      <td>None</td>\n",
       "      <td>A</td>\n",
       "      <td>1433623319</td>\n",
       "      <td>120308342</td>\n",
       "      <td>34.069515</td>\n",
       "      <td>-85.654242</td>\n",
       "      <td>POINT(-85.6542417 34.0695153)</td>\n",
       "      <td>POLYGON((-85.789466 34.086297, -85.789266 34.0...</td>\n",
       "    </tr>\n",
       "    <tr>\n",
       "      <th>7</th>\n",
       "      <td>01023</td>\n",
       "      <td>01</td>\n",
       "      <td>01023</td>\n",
       "      <td>00161537</td>\n",
       "      <td>Choctaw</td>\n",
       "      <td>Choctaw County</td>\n",
       "      <td>06</td>\n",
       "      <td>H1</td>\n",
       "      <td>G4020</td>\n",
       "      <td>None</td>\n",
       "      <td>None</td>\n",
       "      <td>None</td>\n",
       "      <td>A</td>\n",
       "      <td>2365869841</td>\n",
       "      <td>19144469</td>\n",
       "      <td>31.990954</td>\n",
       "      <td>-88.248889</td>\n",
       "      <td>POINT(-88.2488894 31.9909539)</td>\n",
       "      <td>POLYGON((-88.44169 32.146407, -88.441873 32.14...</td>\n",
       "    </tr>\n",
       "    <tr>\n",
       "      <th>8</th>\n",
       "      <td>01119</td>\n",
       "      <td>01</td>\n",
       "      <td>01119</td>\n",
       "      <td>00161585</td>\n",
       "      <td>Sumter</td>\n",
       "      <td>Sumter County</td>\n",
       "      <td>06</td>\n",
       "      <td>H1</td>\n",
       "      <td>G4020</td>\n",
       "      <td>None</td>\n",
       "      <td>None</td>\n",
       "      <td>None</td>\n",
       "      <td>A</td>\n",
       "      <td>2340898915</td>\n",
       "      <td>24634883</td>\n",
       "      <td>32.597481</td>\n",
       "      <td>-88.200057</td>\n",
       "      <td>POINT(-88.2000571 32.5974811)</td>\n",
       "      <td>POLYGON((-88.369055 32.742584, -88.369201 32.7...</td>\n",
       "    </tr>\n",
       "    <tr>\n",
       "      <th>9</th>\n",
       "      <td>01035</td>\n",
       "      <td>01</td>\n",
       "      <td>01035</td>\n",
       "      <td>00161543</td>\n",
       "      <td>Conecuh</td>\n",
       "      <td>Conecuh County</td>\n",
       "      <td>06</td>\n",
       "      <td>H1</td>\n",
       "      <td>G4020</td>\n",
       "      <td>None</td>\n",
       "      <td>None</td>\n",
       "      <td>None</td>\n",
       "      <td>A</td>\n",
       "      <td>2202007855</td>\n",
       "      <td>6632046</td>\n",
       "      <td>31.430926</td>\n",
       "      <td>-86.988722</td>\n",
       "      <td>POINT(-86.9887221 31.4309257)</td>\n",
       "      <td>POLYGON((-87.165662 31.542897, -87.166757 31.5...</td>\n",
       "    </tr>\n",
       "  </tbody>\n",
       "</table>\n",
       "</div>"
      ],
      "text/plain": [
       "  geo_id state_fips_code county_fips_code county_gnis_code county_name  \\\n",
       "0  01011              01            01011         00161531     Bullock   \n",
       "1  01025              01            01025         00161538      Clarke   \n",
       "2  01027              01            01027         00161539        Clay   \n",
       "3  01029              01            01029         00161540    Cleburne   \n",
       "4  01111              01            01111         00161582    Randolph   \n",
       "5  01075              01            01075         00161563       Lamar   \n",
       "6  01019              01            01019         00161535    Cherokee   \n",
       "7  01023              01            01023         00161537     Choctaw   \n",
       "8  01119              01            01119         00161585      Sumter   \n",
       "9  01035              01            01035         00161543     Conecuh   \n",
       "\n",
       "         lsad_name lsad_code fips_class_code mtfcc_feature_class_code  \\\n",
       "0   Bullock County        06              H1                    G4020   \n",
       "1    Clarke County        06              H1                    G4020   \n",
       "2      Clay County        06              H1                    G4020   \n",
       "3  Cleburne County        06              H1                    G4020   \n",
       "4  Randolph County        06              H1                    G4020   \n",
       "5     Lamar County        06              H1                    G4020   \n",
       "6  Cherokee County        06              H1                    G4020   \n",
       "7   Choctaw County        06              H1                    G4020   \n",
       "8    Sumter County        06              H1                    G4020   \n",
       "9   Conecuh County        06              H1                    G4020   \n",
       "\n",
       "  csa_fips_code cbsa_fips_code met_div_fips_code functional_status  \\\n",
       "0          None           None              None                 A   \n",
       "1          None           None              None                 A   \n",
       "2          None           None              None                 A   \n",
       "3          None           None              None                 A   \n",
       "4          None           None              None                 A   \n",
       "5          None           None              None                 A   \n",
       "6          None           None              None                 A   \n",
       "7          None           None              None                 A   \n",
       "8          None           None              None                 A   \n",
       "9          None           None              None                 A   \n",
       "\n",
       "   area_land_meters  area_water_meters  int_point_lat  int_point_lon  \\\n",
       "0        1613076054            6038093      32.101759     -85.717261   \n",
       "1        3207494106           36657891      31.685521     -87.818624   \n",
       "2        1564251834            5285207      33.270400     -85.863525   \n",
       "3        1450663786            2354896      33.671964     -85.516126   \n",
       "4        1503615937            9285420      33.296475     -85.464068   \n",
       "5        1566544637            1600679      33.787085     -88.087431   \n",
       "6        1433623319          120308342      34.069515     -85.654242   \n",
       "7        2365869841           19144469      31.990954     -88.248889   \n",
       "8        2340898915           24634883      32.597481     -88.200057   \n",
       "9        2202007855            6632046      31.430926     -86.988722   \n",
       "\n",
       "                  int_point_geom  \\\n",
       "0  POINT(-85.7172613 32.1017589)   \n",
       "1  POINT(-87.8186244 31.6855211)   \n",
       "2  POINT(-85.8635254 33.2703999)   \n",
       "3  POINT(-85.5161261 33.6719637)   \n",
       "4  POINT(-85.4640679 33.2964753)   \n",
       "5  POINT(-88.0874309 33.7870852)   \n",
       "6  POINT(-85.6542417 34.0695153)   \n",
       "7  POINT(-88.2488894 31.9909539)   \n",
       "8  POINT(-88.2000571 32.5974811)   \n",
       "9  POINT(-86.9887221 31.4309257)   \n",
       "\n",
       "                                         county_geom  \n",
       "0  POLYGON((-85.926296 32.054676, -85.920111 32.0...  \n",
       "1  POLYGON((-88.080207 31.677064, -88.080058 31.6...  \n",
       "2  POLYGON((-85.978793 33.327568, -85.978797 33.3...  \n",
       "3  POLYGON((-85.603465 33.788474, -85.603469 33.7...  \n",
       "4  POLYGON((-85.648139 33.359095, -85.648165 33.3...  \n",
       "5  POLYGON((-88.24154 33.802962, -88.241641 33.80...  \n",
       "6  POLYGON((-85.789466 34.086297, -85.789266 34.0...  \n",
       "7  POLYGON((-88.44169 32.146407, -88.441873 32.14...  \n",
       "8  POLYGON((-88.369055 32.742584, -88.369201 32.7...  \n",
       "9  POLYGON((-87.165662 31.542897, -87.166757 31.5...  "
      ]
     },
     "execution_count": 3,
     "metadata": {},
     "output_type": "execute_result"
    }
   ],
   "source": [
    "q = bq.query(\n",
    "\"\"\"\n",
    "select * \n",
    "from bigquery-public-data.geo_us_boundaries.counties\n",
    "LIMIT 10\n",
    "\"\"\")\n",
    "q.to_dataframe()"
   ]
  },
  {
   "cell_type": "code",
   "execution_count": 4,
   "id": "7b25f54a-19e9-480f-a906-7dc3032497f9",
   "metadata": {
    "scrolled": true
   },
   "outputs": [
    {
     "data": {
      "text/html": [
       "<div>\n",
       "<style scoped>\n",
       "    .dataframe tbody tr th:only-of-type {\n",
       "        vertical-align: middle;\n",
       "    }\n",
       "\n",
       "    .dataframe tbody tr th {\n",
       "        vertical-align: top;\n",
       "    }\n",
       "\n",
       "    .dataframe thead th {\n",
       "        text-align: right;\n",
       "    }\n",
       "</style>\n",
       "<table border=\"1\" class=\"dataframe\">\n",
       "  <thead>\n",
       "    <tr style=\"text-align: right;\">\n",
       "      <th></th>\n",
       "      <th>num_rows</th>\n",
       "    </tr>\n",
       "  </thead>\n",
       "  <tbody>\n",
       "    <tr>\n",
       "      <th>0</th>\n",
       "      <td>3233</td>\n",
       "    </tr>\n",
       "  </tbody>\n",
       "</table>\n",
       "</div>"
      ],
      "text/plain": [
       "   num_rows\n",
       "0      3233"
      ]
     },
     "execution_count": 4,
     "metadata": {},
     "output_type": "execute_result"
    }
   ],
   "source": [
    "q = bq.query(\n",
    "\"\"\"\n",
    "select count(*) as num_rows \n",
    "from bigquery-public-data.geo_us_boundaries.counties\n",
    "\"\"\")\n",
    "q.to_dataframe()"
   ]
  },
  {
   "cell_type": "code",
   "execution_count": 5,
   "id": "e55ee901-2e05-4844-b959-de6b6f430f07",
   "metadata": {},
   "outputs": [],
   "source": [
    "no_cache = bigquery.QueryJobConfig(use_query_cache=False)"
   ]
  },
  {
   "cell_type": "code",
   "execution_count": 6,
   "id": "80ebdd2d-5e56-439e-b4bd-3faa09e5a04e",
   "metadata": {
    "scrolled": true
   },
   "outputs": [
    {
     "data": {
      "text/plain": [
       "'55025'"
      ]
     },
     "execution_count": 6,
     "metadata": {},
     "output_type": "execute_result"
    }
   ],
   "source": [
    "#q1\n",
    "q1 = bq.query(\n",
    "\"\"\"\n",
    "select geo_id\n",
    "from bigquery-public-data.geo_us_boundaries.counties\n",
    "where lsad_name = 'Dane County'\n",
    "\"\"\", job_config=no_cache)\n",
    "q1.to_dataframe()['geo_id'][0]"
   ]
  },
  {
   "cell_type": "code",
   "execution_count": 7,
   "id": "6ca004ec-5de5-439b-8473-169c72d74f8b",
   "metadata": {
    "scrolled": true
   },
   "outputs": [
    {
     "data": {
      "text/plain": [
       "{'48': 254, '13': 159, '51': 133, '21': 120, '29': 115}"
      ]
     },
     "execution_count": 7,
     "metadata": {},
     "output_type": "execute_result"
    }
   ],
   "source": [
    "#q2\n",
    "q2 = bq.query(\n",
    "\"\"\"\n",
    "select state_fips_code, count(*) as num_counties\n",
    "from bigquery-public-data.geo_us_boundaries.counties\n",
    "group by state_fips_code\n",
    "order by num_counties desc limit 5\n",
    "\"\"\", job_config=no_cache)\n",
    "df = q2.to_dataframe()\n",
    "pd.Series(df.num_counties.values,index=df.state_fips_code).to_dict()"
   ]
  },
  {
   "cell_type": "code",
   "execution_count": 8,
   "id": "e34ab704-a6e6-4508-8a85-61e6efdf12e9",
   "metadata": {
    "scrolled": true
   },
   "outputs": [
    {
     "data": {
      "text/plain": [
       "{'q1': 5.9604644775390625e-05, 'q2': 5.9604644775390625e-05}"
      ]
     },
     "execution_count": 8,
     "metadata": {},
     "output_type": "execute_result"
    }
   ],
   "source": [
    "#q3\n",
    "bill = {}\n",
    "per_tb = 6.25\n",
    "bill['q1'] = q1.total_bytes_billed / 1024**4 * per_tb\n",
    "bill['q2'] = q2.total_bytes_billed / 1024**4 * per_tb\n",
    "bill"
   ]
  },
  {
   "cell_type": "code",
   "execution_count": 9,
   "id": "c958d99e-f9e4-4c20-af93-5938b3c57cdd",
   "metadata": {},
   "outputs": [],
   "source": [
    "p8 = bigquery.Dataset(\"cs544-399400.p8\")"
   ]
  },
  {
   "cell_type": "code",
   "execution_count": 10,
   "id": "5d3d5be1-0d12-45cb-b025-9140c81f28b7",
   "metadata": {},
   "outputs": [
    {
     "data": {
      "text/plain": [
       "Dataset(DatasetReference('cs544-399400', 'p8'))"
      ]
     },
     "execution_count": 10,
     "metadata": {},
     "output_type": "execute_result"
    }
   ],
   "source": [
    "bq.create_dataset(p8, exists_ok=True)"
   ]
  },
  {
   "cell_type": "code",
   "execution_count": 11,
   "id": "9850141a-da93-4cba-8145-8663b3cefa24",
   "metadata": {
    "scrolled": true
   },
   "outputs": [
    {
     "data": {
      "text/plain": [
       "LoadJob<project=cs544-399400, location=US, id=1fef4ee4-ba3c-48cc-8737-11492ee3b528>"
      ]
     },
     "execution_count": 11,
     "metadata": {},
     "output_type": "execute_result"
    }
   ],
   "source": [
    "config = bigquery.LoadJobConfig(source_format=\"PARQUET\", write_disposition=\"WRITE_TRUNCATE\")\n",
    "source = \"gs://cs544_p8_ykim846/hdma-wi-2021.parquet\"\n",
    "job = bq.load_table_from_uri(source, \"cs544-399400.p8.hdma\", job_config=config)\n",
    "job.result()"
   ]
  },
  {
   "cell_type": "code",
   "execution_count": 12,
   "id": "aaa6ca3e-47d7-48b8-b418-21c8e4431c3c",
   "metadata": {
    "scrolled": true
   },
   "outputs": [
    {
     "data": {
      "text/plain": [
       "['p8']"
      ]
     },
     "execution_count": 12,
     "metadata": {},
     "output_type": "execute_result"
    }
   ],
   "source": [
    "#q4\n",
    "[ds.dataset_id for ds in bq.list_datasets(\"cs544-399400\")] # PASTE your project name"
   ]
  },
  {
   "cell_type": "code",
   "execution_count": 13,
   "id": "5b596f08-3dd6-4de3-8e85-e09c1317347b",
   "metadata": {},
   "outputs": [],
   "source": [
    "wi = bq.query(\"\"\"\n",
    "SELECT c.county_name, count(*) as counts\n",
    "FROM cs544-399400.p8.hdma as h\n",
    "LEFT JOIN bigquery-public-data.geo_us_boundaries.counties as c ON h.county_code = c.county_fips_code \n",
    "GROUP BY c.county_name\n",
    "ORDER BY counts DESC\n",
    "LIMIT 10\n",
    "\"\"\").to_dataframe()"
   ]
  },
  {
   "cell_type": "code",
   "execution_count": 14,
   "id": "05240be5-58cd-4664-b3bb-142445594180",
   "metadata": {
    "scrolled": true
   },
   "outputs": [
    {
     "data": {
      "text/html": [
       "<div>\n",
       "<style scoped>\n",
       "    .dataframe tbody tr th:only-of-type {\n",
       "        vertical-align: middle;\n",
       "    }\n",
       "\n",
       "    .dataframe tbody tr th {\n",
       "        vertical-align: top;\n",
       "    }\n",
       "\n",
       "    .dataframe thead th {\n",
       "        text-align: right;\n",
       "    }\n",
       "</style>\n",
       "<table border=\"1\" class=\"dataframe\">\n",
       "  <thead>\n",
       "    <tr style=\"text-align: right;\">\n",
       "      <th></th>\n",
       "      <th>county_name</th>\n",
       "      <th>counts</th>\n",
       "    </tr>\n",
       "  </thead>\n",
       "  <tbody>\n",
       "    <tr>\n",
       "      <th>0</th>\n",
       "      <td>Milwaukee</td>\n",
       "      <td>46570</td>\n",
       "    </tr>\n",
       "    <tr>\n",
       "      <th>1</th>\n",
       "      <td>Dane</td>\n",
       "      <td>38557</td>\n",
       "    </tr>\n",
       "    <tr>\n",
       "      <th>2</th>\n",
       "      <td>Waukesha</td>\n",
       "      <td>34159</td>\n",
       "    </tr>\n",
       "    <tr>\n",
       "      <th>3</th>\n",
       "      <td>Brown</td>\n",
       "      <td>15615</td>\n",
       "    </tr>\n",
       "    <tr>\n",
       "      <th>4</th>\n",
       "      <td>Racine</td>\n",
       "      <td>13007</td>\n",
       "    </tr>\n",
       "    <tr>\n",
       "      <th>5</th>\n",
       "      <td>Outagamie</td>\n",
       "      <td>11523</td>\n",
       "    </tr>\n",
       "    <tr>\n",
       "      <th>6</th>\n",
       "      <td>Kenosha</td>\n",
       "      <td>10744</td>\n",
       "    </tr>\n",
       "    <tr>\n",
       "      <th>7</th>\n",
       "      <td>Washington</td>\n",
       "      <td>10726</td>\n",
       "    </tr>\n",
       "    <tr>\n",
       "      <th>8</th>\n",
       "      <td>Rock</td>\n",
       "      <td>9834</td>\n",
       "    </tr>\n",
       "    <tr>\n",
       "      <th>9</th>\n",
       "      <td>Winnebago</td>\n",
       "      <td>9310</td>\n",
       "    </tr>\n",
       "  </tbody>\n",
       "</table>\n",
       "</div>"
      ],
      "text/plain": [
       "  county_name  counts\n",
       "0   Milwaukee   46570\n",
       "1        Dane   38557\n",
       "2    Waukesha   34159\n",
       "3       Brown   15615\n",
       "4      Racine   13007\n",
       "5   Outagamie   11523\n",
       "6     Kenosha   10744\n",
       "7  Washington   10726\n",
       "8        Rock    9834\n",
       "9   Winnebago    9310"
      ]
     },
     "execution_count": 14,
     "metadata": {},
     "output_type": "execute_result"
    }
   ],
   "source": [
    "wi"
   ]
  },
  {
   "cell_type": "code",
   "execution_count": 15,
   "id": "e90978f1-0727-475c-9e3e-b78610438b54",
   "metadata": {
    "scrolled": true
   },
   "outputs": [
    {
     "data": {
      "text/plain": [
       "{'Milwaukee': 46570,\n",
       " 'Dane': 38557,\n",
       " 'Waukesha': 34159,\n",
       " 'Brown': 15615,\n",
       " 'Racine': 13007,\n",
       " 'Outagamie': 11523,\n",
       " 'Kenosha': 10744,\n",
       " 'Washington': 10726,\n",
       " 'Rock': 9834,\n",
       " 'Winnebago': 9310}"
      ]
     },
     "execution_count": 15,
     "metadata": {},
     "output_type": "execute_result"
    }
   ],
   "source": [
    "#q5\n",
    "pd.Series(wi.counts.values, index=wi.county_name).to_dict()"
   ]
  },
  {
   "cell_type": "code",
   "execution_count": 16,
   "id": "eeac837c-afff-4a34-9517-bb5f378ba5d6",
   "metadata": {},
   "outputs": [],
   "source": [
    "url = \"https://docs.google.com/spreadsheets/d/11UeIBqQylAyNUBsIO54p6WiYJWHayQMfHDbUWq1jGco/\"\n",
    "\n",
    "external_config = bigquery.ExternalConfig(\"GOOGLE_SHEETS\")\n",
    "external_config.source_uris = [url]\n",
    "external_config.options.skip_leading_rows = 1\n",
    "external_config.autodetect = True\n",
    "\n",
    "table = bigquery.Table(p8.table(\"applications\"))\n",
    "table.external_data_configuration = external_config\n",
    "\n",
    "table = bq.create_table(table, exists_ok=True)"
   ]
  },
  {
   "cell_type": "code",
   "execution_count": 17,
   "id": "16c6e005-dd4f-4abc-9638-e0e423961a51",
   "metadata": {},
   "outputs": [],
   "source": [
    "app = bq.query(\"\"\"\n",
    "SELECT count(*) as count\n",
    "FROM p8.applications\n",
    "WHERE income = 100000\n",
    "LIMIT 10\n",
    "\"\"\").to_dataframe()"
   ]
  },
  {
   "cell_type": "code",
   "execution_count": 18,
   "id": "f73f3b0f-5a2a-485a-b8eb-84ffe2cf9b47",
   "metadata": {},
   "outputs": [
    {
     "data": {
      "text/plain": [
       "26"
      ]
     },
     "execution_count": 18,
     "metadata": {},
     "output_type": "execute_result"
    }
   ],
   "source": [
    "#q6\n",
    "app['count'][0]"
   ]
  },
  {
   "cell_type": "code",
   "execution_count": 19,
   "id": "1ea3c2d3-e94c-4bba-a3ca-449b3da24680",
   "metadata": {},
   "outputs": [],
   "source": [
    "per = bq.query(\"\"\"\n",
    "SELECT c.county_name, COUNT(*) as counts\n",
    "FROM (\n",
    "    SELECT *, ST_GEOGPOINT(longitude, latitude) AS loc\n",
    "    FROM p8.applications\n",
    ") AS a\n",
    "CROSS JOIN bigquery-public-data.geo_us_boundaries.counties AS c\n",
    "WHERE c.state_fips_code = '55' AND ST_Within(a.loc, c.county_geom)\n",
    "GROUP BY county_name\n",
    "ORDER BY counts DESC\n",
    "\"\"\").to_dataframe()"
   ]
  },
  {
   "cell_type": "code",
   "execution_count": 20,
   "id": "4cc8822d-3764-40d6-bf73-4ea5619d2665",
   "metadata": {
    "scrolled": true
   },
   "outputs": [
    {
     "data": {
      "text/plain": [
       "{'Dane': 54,\n",
       " 'Door': 17,\n",
       " 'Brown': 6,\n",
       " 'Columbia': 4,\n",
       " 'Bayfield': 4,\n",
       " 'Sheboygan': 4,\n",
       " 'Oneida': 3,\n",
       " 'Winnebago': 3,\n",
       " 'Milwaukee': 3,\n",
       " 'Walworth': 3,\n",
       " 'Marinette': 2,\n",
       " 'Kewaunee': 2,\n",
       " 'Monroe': 2,\n",
       " 'Barron': 2,\n",
       " 'Ashland': 2,\n",
       " 'Jefferson': 2,\n",
       " 'Green Lake': 2,\n",
       " 'Wood': 2,\n",
       " 'Eau Claire': 1,\n",
       " 'Outagamie': 1,\n",
       " 'Douglas': 1,\n",
       " 'Sauk': 1,\n",
       " 'Crawford': 1,\n",
       " 'Ozaukee': 1,\n",
       " 'Manitowoc': 1,\n",
       " 'Chippewa': 1,\n",
       " 'Adams': 1,\n",
       " 'St. Croix': 1,\n",
       " 'Dodge': 1,\n",
       " 'Marathon': 1,\n",
       " 'Polk': 1}"
      ]
     },
     "execution_count": 20,
     "metadata": {},
     "output_type": "execute_result"
    }
   ],
   "source": [
    "#q7\n",
    "pd.Series(per.counts.values, index=per.county_name).to_dict()"
   ]
  },
  {
   "cell_type": "code",
   "execution_count": null,
   "id": "f148cb13-2314-4d1b-9b1c-47a941f704ce",
   "metadata": {},
   "outputs": [],
   "source": []
  }
 ],
 "metadata": {
  "kernelspec": {
   "display_name": "Python 3 (ipykernel)",
   "language": "python",
   "name": "python3"
  },
  "language_info": {
   "codemirror_mode": {
    "name": "ipython",
    "version": 3
   },
   "file_extension": ".py",
   "mimetype": "text/x-python",
   "name": "python",
   "nbconvert_exporter": "python",
   "pygments_lexer": "ipython3",
   "version": "3.10.12"
  }
 },
 "nbformat": 4,
 "nbformat_minor": 5
}
