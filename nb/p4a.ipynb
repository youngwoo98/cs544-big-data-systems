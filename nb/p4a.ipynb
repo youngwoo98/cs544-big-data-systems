{
 "cells": [
  {
   "cell_type": "code",
   "execution_count": 1,
   "id": "670094b6-0a5c-48b7-b721-9eb6aef007fe",
   "metadata": {},
   "outputs": [
    {
     "name": "stdout",
     "output_type": "stream",
     "text": [
      "Configured Capacity: 51642105856 (48.10 GB)\n",
      "Present Capacity: 23486046208 (21.87 GB)\n",
      "DFS Remaining: 23485997056 (21.87 GB)\n",
      "DFS Used: 49152 (48 KB)\n",
      "DFS Used%: 0.00%\n",
      "Replicated Blocks:\n",
      "\tUnder replicated blocks: 0\n",
      "\tBlocks with corrupt replicas: 0\n",
      "\tMissing blocks: 0\n",
      "\tMissing blocks (with replication factor 1): 0\n",
      "\tLow redundancy blocks with highest priority to recover: 0\n",
      "\tPending deletion blocks: 0\n",
      "Erasure Coded Block Groups: \n",
      "\tLow redundancy block groups: 0\n",
      "\tBlock groups with corrupt internal blocks: 0\n",
      "\tMissing block groups: 0\n",
      "\tLow redundancy blocks with highest priority to recover: 0\n",
      "\tPending deletion blocks: 0\n",
      "\n",
      "-------------------------------------------------\n",
      "Live datanodes (2):\n",
      "\n",
      "Name: 172.18.0.4:9866 (project-4-neoul-bom-slow-village-makgeolli-dn-2.project-4-neoul-bom-slow-village-makgeolli_default)\n",
      "Hostname: 49fda1522805\n",
      "Decommission Status : Normal\n",
      "Configured Capacity: 25821052928 (24.05 GB)\n",
      "DFS Used: 24576 (24 KB)\n",
      "Non DFS Used: 14061252608 (13.10 GB)\n",
      "DFS Remaining: 11742998528 (10.94 GB)\n",
      "DFS Used%: 0.00%\n",
      "DFS Remaining%: 45.48%\n",
      "Configured Cache Capacity: 0 (0 B)\n",
      "Cache Used: 0 (0 B)\n",
      "Cache Remaining: 0 (0 B)\n",
      "Cache Used%: 100.00%\n",
      "Cache Remaining%: 0.00%\n",
      "Xceivers: 0\n",
      "Last contact: Wed Oct 18 20:49:08 GMT 2023\n",
      "Last Block Report: Wed Oct 18 20:48:08 GMT 2023\n",
      "Num of Blocks: 0\n",
      "\n",
      "\n",
      "Name: 172.18.0.5:9866 (project-4-neoul-bom-slow-village-makgeolli-dn-1.project-4-neoul-bom-slow-village-makgeolli_default)\n",
      "Hostname: c4103de71431\n",
      "Decommission Status : Normal\n",
      "Configured Capacity: 25821052928 (24.05 GB)\n",
      "DFS Used: 24576 (24 KB)\n",
      "Non DFS Used: 14061252608 (13.10 GB)\n",
      "DFS Remaining: 11742998528 (10.94 GB)\n",
      "DFS Used%: 0.00%\n",
      "DFS Remaining%: 45.48%\n",
      "Configured Cache Capacity: 0 (0 B)\n",
      "Cache Used: 0 (0 B)\n",
      "Cache Remaining: 0 (0 B)\n",
      "Cache Used%: 100.00%\n",
      "Cache Remaining%: 0.00%\n",
      "Xceivers: 0\n",
      "Last contact: Wed Oct 18 20:49:08 GMT 2023\n",
      "Last Block Report: Wed Oct 18 20:48:08 GMT 2023\n",
      "Num of Blocks: 0\n",
      "\n",
      "\n"
     ]
    }
   ],
   "source": [
    "#q1\n",
    "!hdfs dfsadmin -fs hdfs://boss:9000 -report"
   ]
  },
  {
   "cell_type": "code",
   "execution_count": 2,
   "id": "7f95a5a4-539a-404b-9635-2a6b599ba450",
   "metadata": {},
   "outputs": [],
   "source": [
    "# clear hdma-wi-2021.csv file\n",
    "!rm -f ./hdma-wi-2021.csv"
   ]
  },
  {
   "cell_type": "code",
   "execution_count": 3,
   "id": "ae5c6459-a860-4dd7-b876-a7f59ebe0caf",
   "metadata": {},
   "outputs": [
    {
     "name": "stdout",
     "output_type": "stream",
     "text": [
      "--2023-10-18 20:49:12--  https://pages.cs.wisc.edu/~harter/cs544/data/hdma-wi-2021.csv\n",
      "Resolving pages.cs.wisc.edu (pages.cs.wisc.edu)... 128.105.7.9\n",
      "Connecting to pages.cs.wisc.edu (pages.cs.wisc.edu)|128.105.7.9|:443... connected.\n",
      "HTTP request sent, awaiting response... 200 OK\n",
      "Length: 174944099 (167M) [text/csv]\n",
      "Saving to: ‘hdma-wi-2021.csv’\n",
      "\n",
      "hdma-wi-2021.csv    100%[===================>] 166.84M  4.50MB/s    in 36s     \n",
      "\n",
      "2023-10-18 20:49:48 (4.66 MB/s) - ‘hdma-wi-2021.csv’ saved [174944099/174944099]\n",
      "\n"
     ]
    }
   ],
   "source": [
    "# download hdma-wi-2021.csv\n",
    "!wget https://pages.cs.wisc.edu/~harter/cs544/data/hdma-wi-2021.csv"
   ]
  },
  {
   "cell_type": "code",
   "execution_count": 4,
   "id": "6063ba88-7e62-4158-afe8-d69c459a3493",
   "metadata": {},
   "outputs": [],
   "source": [
    "# clear csv files\n",
    "!hdfs dfs -rm -f hdfs://boss:9000/single.csv\n",
    "!hdfs dfs -rm -f hdfs://boss:9000/double.csv"
   ]
  },
  {
   "cell_type": "code",
   "execution_count": 5,
   "id": "b90ab9e4-c1c6-453c-b3a5-fa6ed640d1aa",
   "metadata": {},
   "outputs": [],
   "source": [
    "# copy csv file\n",
    "!hdfs dfs -D dfs.block.size=1048576 -D dfs.replication=1 -cp ./hdma-wi-2021.csv hdfs://boss:9000/single.csv\n",
    "!hdfs dfs -D dfs.block.size=1048576 -D dfs.replication=2 -cp ./hdma-wi-2021.csv hdfs://boss:9000/double.csv"
   ]
  },
  {
   "cell_type": "code",
   "execution_count": 6,
   "id": "d57ea071-4718-4987-8b3e-2b6b785e6b8f",
   "metadata": {},
   "outputs": [],
   "source": [
    "# clear hdma-wi-2021.csv file\n",
    "!rm -f ./hdma-wi-2021.csv"
   ]
  },
  {
   "cell_type": "code",
   "execution_count": 7,
   "id": "b431d919-0164-485d-8052-25f28c86e6e8",
   "metadata": {},
   "outputs": [
    {
     "name": "stdout",
     "output_type": "stream",
     "text": [
      "166.8 M  333.7 M  hdfs://boss:9000/double.csv\n",
      "166.8 M  166.8 M  hdfs://boss:9000/single.csv\n"
     ]
    }
   ],
   "source": [
    "#q2\n",
    "!hdfs dfs -du -h hdfs://boss:9000/*"
   ]
  }
 ],
 "metadata": {
  "kernelspec": {
   "display_name": "Python 3 (ipykernel)",
   "language": "python",
   "name": "python3"
  },
  "language_info": {
   "codemirror_mode": {
    "name": "ipython",
    "version": 3
   },
   "file_extension": ".py",
   "mimetype": "text/x-python",
   "name": "python",
   "nbconvert_exporter": "python",
   "pygments_lexer": "ipython3",
   "version": "3.10.12"
  }
 },
 "nbformat": 4,
 "nbformat_minor": 5
}
