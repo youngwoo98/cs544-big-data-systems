{
 "cells": [
  {
   "cell_type": "code",
   "execution_count": null,
   "id": "898b2e32-c342-4c7a-a520-8967dbeaca72",
   "metadata": {},
   "outputs": [],
   "source": [
    "import time\n",
    "time.sleep(30)"
   ]
  },
  {
   "cell_type": "code",
   "execution_count": 2,
   "id": "db812483-90e9-4566-944b-b7f0710270df",
   "metadata": {},
   "outputs": [
    {
     "name": "stdout",
     "output_type": "stream",
     "text": [
      "Configured Capacity: 25821052928 (24.05 GB)\n",
      "Present Capacity: 10939899904 (10.19 GB)\n",
      "DFS Remaining: 10688581632 (9.95 GB)\n",
      "DFS Used: 251318272 (239.68 MB)\n",
      "DFS Used%: 2.30%\n",
      "Replicated Blocks:\n",
      "\tUnder replicated blocks: 167\n",
      "\tBlocks with corrupt replicas: 0\n",
      "\tMissing blocks: 97\n",
      "\tMissing blocks (with replication factor 1): 97\n",
      "\tLow redundancy blocks with highest priority to recover: 167\n",
      "\tPending deletion blocks: 0\n",
      "Erasure Coded Block Groups: \n",
      "\tLow redundancy block groups: 0\n",
      "\tBlock groups with corrupt internal blocks: 0\n",
      "\tMissing block groups: 0\n",
      "\tLow redundancy blocks with highest priority to recover: 0\n",
      "\tPending deletion blocks: 0\n",
      "\n",
      "-------------------------------------------------\n",
      "Live datanodes (1):\n",
      "\n",
      "Name: 172.18.0.3:9866 (project-4-neoul-bom-slow-village-makgeolli-dn-1.project-4-neoul-bom-slow-village-makgeolli_default)\n",
      "Hostname: 72e3c7674838\n",
      "Decommission Status : Normal\n",
      "Configured Capacity: 25821052928 (24.05 GB)\n",
      "DFS Used: 251318272 (239.68 MB)\n",
      "Non DFS Used: 14864375808 (13.84 GB)\n",
      "DFS Remaining: 10688581632 (9.95 GB)\n",
      "DFS Used%: 0.97%\n",
      "DFS Remaining%: 41.39%\n",
      "Configured Cache Capacity: 0 (0 B)\n",
      "Cache Used: 0 (0 B)\n",
      "Cache Remaining: 0 (0 B)\n",
      "Cache Used%: 100.00%\n",
      "Cache Remaining%: 0.00%\n",
      "Xceivers: 0\n",
      "Last contact: Fri Oct 20 08:16:39 GMT 2023\n",
      "Last Block Report: Fri Oct 20 08:05:18 GMT 2023\n",
      "Num of Blocks: 237\n",
      "\n",
      "\n",
      "Dead datanodes (1):\n",
      "\n",
      "Name: 172.18.0.5:9866 (172.18.0.5)\n",
      "Hostname: 15919eb55955\n",
      "Decommission Status : Normal\n",
      "Configured Capacity: 25821052928 (24.05 GB)\n",
      "DFS Used: 278674366 (265.76 MB)\n",
      "Non DFS Used: 14836995138 (13.82 GB)\n",
      "DFS Remaining: 10688606208 (9.95 GB)\n",
      "DFS Used%: 1.08%\n",
      "DFS Remaining%: 41.39%\n",
      "Configured Cache Capacity: 0 (0 B)\n",
      "Cache Used: 0 (0 B)\n",
      "Cache Remaining: 0 (0 B)\n",
      "Cache Used%: 100.00%\n",
      "Cache Remaining%: 0.00%\n",
      "Xceivers: 0\n",
      "Last contact: Fri Oct 20 08:09:59 GMT 2023\n",
      "Last Block Report: Fri Oct 20 08:05:17 GMT 2023\n",
      "Num of Blocks: 0\n",
      "\n",
      "\n"
     ]
    }
   ],
   "source": [
    "#q8\n",
    "!hdfs dfsadmin -fs hdfs://boss:9000 -report"
   ]
  },
  {
   "cell_type": "code",
   "execution_count": 3,
   "id": "620c37e7-2764-4764-8d08-112ecb740fa1",
   "metadata": {},
   "outputs": [],
   "source": [
    "import requests\n",
    "count = 0\n",
    "r = requests.get(\"http://boss:9870/webhdfs/v1/single.csv?op=GETFILEBLOCKLOCATIONS\")\n",
    "r.json()\n",
    "blocks = r.json()['BlockLocations']['BlockLocation']"
   ]
  },
  {
   "cell_type": "code",
   "execution_count": 4,
   "id": "f86e4911-2606-42f7-9194-7916044a023f",
   "metadata": {},
   "outputs": [
    {
     "data": {
      "text/plain": [
       "{'lost': 97, '72e3c7674838': 70}"
      ]
     },
     "execution_count": 4,
     "metadata": {},
     "output_type": "execute_result"
    }
   ],
   "source": [
    "#q9\n",
    "id = {}\n",
    "for i in range(len(blocks)):\n",
    "    if len(blocks[i]['hosts']) == 0:\n",
    "        blocks[i] = 'lost'\n",
    "    else:\n",
    "        blocks[i] = blocks[i]['hosts'][0]\n",
    "for i in blocks:\n",
    "    id[i] = id.get(i, 0) + 1\n",
    "id        "
   ]
  },
  {
   "cell_type": "code",
   "execution_count": 5,
   "id": "ac7a9f3e-b30c-438b-a590-05ec531371bc",
   "metadata": {},
   "outputs": [],
   "source": [
    "import pyarrow as pa\n",
    "import pyarrow.fs\n",
    "import io"
   ]
  },
  {
   "cell_type": "code",
   "execution_count": 6,
   "id": "050012de-d6b2-420b-93f0-1b686a7f27c1",
   "metadata": {},
   "outputs": [
    {
     "name": "stderr",
     "output_type": "stream",
     "text": [
      "2023-10-20 08:16:43,656 WARN util.NativeCodeLoader: Unable to load native-hadoop library for your platform... using builtin-java classes where applicable\n"
     ]
    }
   ],
   "source": [
    "#q10\n",
    "count = 0\n",
    "target = \"Single Family\"\n",
    "r = requests.get(\"http://boss:9870/webhdfs/v1/single.csv?op=GETFILEBLOCKLOCATIONS\")\n",
    "hdfs = pa.fs.HadoopFileSystem(\"boss\", 9000)\n",
    "blocks = r.json()['BlockLocations']['BlockLocation']"
   ]
  }
 ],
 "metadata": {
  "kernelspec": {
   "display_name": "Python 3 (ipykernel)",
   "language": "python",
   "name": "python3"
  },
  "language_info": {
   "codemirror_mode": {
    "name": "ipython",
    "version": 3
   },
   "file_extension": ".py",
   "mimetype": "text/x-python",
   "name": "python",
   "nbconvert_exporter": "python",
   "pygments_lexer": "ipython3",
   "version": "3.10.12"
  }
 },
 "nbformat": 4,
 "nbformat_minor": 5
}
