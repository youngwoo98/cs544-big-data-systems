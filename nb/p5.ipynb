{
 "cells": [
  {
   "cell_type": "code",
   "execution_count": 1,
   "metadata": {},
   "outputs": [],
   "source": [
    "# Youngwoo Kim\n",
    "!hdfs dfs -D dfs.replication=1 -cp -f data/*.csv hdfs://nn:9000/"
   ]
  },
  {
   "cell_type": "code",
   "execution_count": 2,
   "metadata": {
    "scrolled": true
   },
   "outputs": [
    {
     "name": "stdout",
     "output_type": "stream",
     "text": [
      "328      328      hdfs://nn:9000/action_taken.csv\n",
      "317      317      hdfs://nn:9000/agency.csv\n",
      "521.0 K  521.0 K  hdfs://nn:9000/arid2017_to_lei_xref_csv.csv\n",
      "311.6 K  311.6 K  hdfs://nn:9000/counties.csv\n",
      "237      237      hdfs://nn:9000/denial_reason.csv\n",
      "109      109      hdfs://nn:9000/edit_status.csv\n",
      "180      180      hdfs://nn:9000/ethnicity.csv\n",
      "166.8 M  166.8 M  hdfs://nn:9000/hdma-wi-2021.csv\n",
      "41       41       hdfs://nn:9000/hoepa.csv\n",
      "114      114      hdfs://nn:9000/lien_status.csv\n",
      "65       65       hdfs://nn:9000/loan_purpose.csv\n",
      "79       79       hdfs://nn:9000/loan_type.csv\n",
      "247      741      hdfs://nn:9000/model/metadata\n",
      "5.4 K    16.2 K   hdfs://nn:9000/model/stages\n",
      "129.6 K  129.6 K  hdfs://nn:9000/msamd.csv\n",
      "122      122      hdfs://nn:9000/owner_occupancy.csv\n",
      "92       92       hdfs://nn:9000/preapproval.csv\n",
      "127      127      hdfs://nn:9000/property_type.csv\n",
      "387      387      hdfs://nn:9000/purchaser_type.csv\n",
      "252      252      hdfs://nn:9000/race.csv\n",
      "144      144      hdfs://nn:9000/sex.csv\n",
      "955      955      hdfs://nn:9000/states.csv\n",
      "2.6 M    2.6 M    hdfs://nn:9000/tracts.csv\n",
      "17.2 M   51.6 M   hdfs://nn:9000/user/hive\n"
     ]
    }
   ],
   "source": [
    "!hdfs dfs -du -h hdfs://nn:9000/*"
   ]
  },
  {
   "cell_type": "code",
   "execution_count": 3,
   "metadata": {},
   "outputs": [
    {
     "name": "stderr",
     "output_type": "stream",
     "text": [
      "Setting default log level to \"WARN\".\n",
      "To adjust logging level use sc.setLogLevel(newLevel). For SparkR, use setLogLevel(newLevel).\n",
      "23/11/11 00:23:19 WARN NativeCodeLoader: Unable to load native-hadoop library for your platform... using builtin-java classes where applicable\n"
     ]
    }
   ],
   "source": [
    "from pyspark.sql import SparkSession\n",
    "spark = (SparkSession.builder.appName(\"cs544\")\n",
    "         .master(\"spark://boss:7077\")\n",
    "         .config(\"spark.executor.memory\", \"512M\")\n",
    "         .config(\"spark.sql.warehouse.dir\", \"hdfs://nn:9000/user/hive/warehouse\")\n",
    "         .enableHiveSupport()\n",
    "         .getOrCreate())"
   ]
  },
  {
   "cell_type": "code",
   "execution_count": 4,
   "metadata": {},
   "outputs": [
    {
     "name": "stderr",
     "output_type": "stream",
     "text": [
      "                                                                                \r"
     ]
    }
   ],
   "source": [
    "banks_df = spark.read.options(header=True, inferSchema=True).csv(\"hdfs://nn:9000/arid2017_to_lei_xref_csv.csv\")"
   ]
  },
  {
   "cell_type": "code",
   "execution_count": 5,
   "metadata": {},
   "outputs": [
    {
     "data": {
      "text/plain": [
       "pyspark.sql.dataframe.DataFrame"
      ]
     },
     "execution_count": 5,
     "metadata": {},
     "output_type": "execute_result"
    }
   ],
   "source": [
    "type(banks_df)"
   ]
  },
  {
   "cell_type": "code",
   "execution_count": 6,
   "metadata": {},
   "outputs": [
    {
     "name": "stderr",
     "output_type": "stream",
     "text": [
      "                                                                                \r"
     ]
    },
    {
     "data": {
      "text/plain": [
       "[Row(respondent_name='First National Bank', arid_2017='110004', lei_2018='5493003EW6T31TGECO83', lei_2019='5493003EW6T31TGECO83', lei_2020='5493003EW6T31TGECO83'),\n",
       " Row(respondent_name='First Mid Bank & Trust, National Association', arid_2017='110045', lei_2018='549300XOTES5TCS8T794', lei_2019='549300XOTES5TCS8T794', lei_2020='549300XOTES5TCS8T794'),\n",
       " Row(respondent_name='First Hope Bank, A National Banking Association', arid_2017='110118', lei_2018='5493003XLOX5FDT9R120', lei_2019='5493003XLOX5FDT9R120', lei_2020='5493003XLOX5FDT9R120')]"
      ]
     },
     "execution_count": 6,
     "metadata": {},
     "output_type": "execute_result"
    }
   ],
   "source": [
    "banks_df.rdd.take(3)"
   ]
  },
  {
   "cell_type": "code",
   "execution_count": 7,
   "metadata": {},
   "outputs": [
    {
     "name": "stderr",
     "output_type": "stream",
     "text": [
      "                                                                                \r"
     ]
    },
    {
     "data": {
      "text/plain": [
       "525"
      ]
     },
     "execution_count": 7,
     "metadata": {},
     "output_type": "execute_result"
    }
   ],
   "source": [
    "#q1\n",
    "banks_df.rdd.filter(lambda x:\"first\" in x.respondent_name.lower()).count()"
   ]
  },
  {
   "cell_type": "code",
   "execution_count": 8,
   "metadata": {},
   "outputs": [],
   "source": [
    "from pyspark.sql.functions import lower"
   ]
  },
  {
   "cell_type": "code",
   "execution_count": 9,
   "metadata": {},
   "outputs": [
    {
     "name": "stderr",
     "output_type": "stream",
     "text": [
      "                                                                                \r"
     ]
    },
    {
     "data": {
      "text/plain": [
       "525"
      ]
     },
     "execution_count": 9,
     "metadata": {},
     "output_type": "execute_result"
    }
   ],
   "source": [
    "#q2\n",
    "banks_df.filter(lower(banks_df.respondent_name).like(\"%first%\")).count()"
   ]
  },
  {
   "cell_type": "code",
   "execution_count": 10,
   "metadata": {},
   "outputs": [
    {
     "name": "stderr",
     "output_type": "stream",
     "text": [
      "23/11/11 00:23:59 WARN HiveConf: HiveConf of name hive.stats.jdbc.timeout does not exist\n",
      "23/11/11 00:23:59 WARN HiveConf: HiveConf of name hive.stats.retries.wait does not exist\n",
      "23/11/11 00:24:04 WARN ObjectStore: Version information not found in metastore. hive.metastore.schema.verification is not enabled so recording the schema version 2.3.0\n",
      "23/11/11 00:24:04 WARN ObjectStore: setMetaStoreSchemaVersion called but recording version is disabled: version = 2.3.0, comment = Set by MetaStore UNKNOWN@172.22.0.6\n",
      "23/11/11 00:24:05 WARN ObjectStore: Failed to get database global_temp, returning NoSuchObjectException\n",
      "23/11/11 00:24:10 WARN SessionState: METASTORE_FILTER_HOOK will be ignored, since hive.security.authorization.manager is set to instance of HiveAuthorizerFactory.\n",
      "23/11/11 00:24:10 WARN HiveConf: HiveConf of name hive.internal.ss.authz.settings.applied.marker does not exist\n",
      "23/11/11 00:24:10 WARN HiveConf: HiveConf of name hive.stats.jdbc.timeout does not exist\n",
      "23/11/11 00:24:10 WARN HiveConf: HiveConf of name hive.stats.retries.wait does not exist\n",
      "                                                                                \r"
     ]
    },
    {
     "data": {
      "text/plain": [
       "525"
      ]
     },
     "execution_count": 10,
     "metadata": {},
     "output_type": "execute_result"
    }
   ],
   "source": [
    "#q3\n",
    "banks_df.write.saveAsTable(\"banks\", mode=\"overwrite\")\n",
    "spark.sql(\"\"\"\n",
    "            SELECT * FROM banks\n",
    "            WHERE LOWER(respondent_name) LIKE '%first%'\n",
    "            \"\"\").count()"
   ]
  },
  {
   "cell_type": "code",
   "execution_count": 11,
   "metadata": {},
   "outputs": [
    {
     "name": "stderr",
     "output_type": "stream",
     "text": [
      "23/11/11 00:24:26 WARN SparkStringUtils: Truncated the string representation of a plan since it was too large. This behavior can be adjusted by setting 'spark.sql.debug.maxToStringFields'.\n",
      "                                                                                \r"
     ]
    }
   ],
   "source": [
    "loans_df = spark.read.options(header=True, inferSchema=True).csv(\"hdfs://nn:9000/hdma-wi-2021.csv\")\n",
    "loans_df.write.bucketBy(8, 'county_code').saveAsTable(\"loans\", mode=\"overwrite\")"
   ]
  },
  {
   "cell_type": "code",
   "execution_count": 12,
   "metadata": {},
   "outputs": [],
   "source": [
    "list_of_tables = [\"ethnicity\", \"race\", \"sex\", \"states\", \"counties\", \"tracts\", \"action_taken\",\n",
    " \"denial_reason\", \"loan_type\", \"loan_purpose\", \"preapproval\", \"property_type\"]"
   ]
  },
  {
   "cell_type": "code",
   "execution_count": 13,
   "metadata": {},
   "outputs": [],
   "source": [
    "for name in list_of_tables:\n",
    "    spark.read.options(header=True, inferSchema=True).csv(f\"hdfs://nn:9000/{name}.csv\").createOrReplaceTempView(f\"{name}\")"
   ]
  },
  {
   "cell_type": "code",
   "execution_count": 14,
   "metadata": {},
   "outputs": [
    {
     "data": {
      "text/plain": [
       "{'banks': False,\n",
       " 'loans': False,\n",
       " 'action_taken': True,\n",
       " 'counties': True,\n",
       " 'denial_reason': True,\n",
       " 'ethnicity': True,\n",
       " 'loan_purpose': True,\n",
       " 'loan_type': True,\n",
       " 'preapproval': True,\n",
       " 'property_type': True,\n",
       " 'race': True,\n",
       " 'sex': True,\n",
       " 'states': True,\n",
       " 'tracts': True}"
      ]
     },
     "execution_count": 14,
     "metadata": {},
     "output_type": "execute_result"
    }
   ],
   "source": [
    "#q4\n",
    "tables = spark.sql(\"SHOW TABLES\").toPandas()\n",
    "result = {}\n",
    "for i, row in tables.iterrows():\n",
    "    result[row['tableName']] = row['isTemporary']\n",
    "result"
   ]
  },
  {
   "cell_type": "code",
   "execution_count": 15,
   "metadata": {},
   "outputs": [
    {
     "name": "stderr",
     "output_type": "stream",
     "text": [
      "                                                                                \r"
     ]
    },
    {
     "data": {
      "text/plain": [
       "19739"
      ]
     },
     "execution_count": 15,
     "metadata": {},
     "output_type": "execute_result"
    }
   ],
   "source": [
    "#q5\n",
    "spark.sql(\"\"\"\n",
    "            SELECT lei_2020, respondent_name FROM banks\n",
    "            INNER JOIN loans ON banks.lei_2020=loans.lei\n",
    "            WHERE respondent_name = 'University of Wisconsin Credit Union'\n",
    "            \"\"\").count()"
   ]
  },
  {
   "cell_type": "code",
   "execution_count": 16,
   "metadata": {},
   "outputs": [
    {
     "data": {
      "text/html": [
       "<div>\n",
       "<style scoped>\n",
       "    .dataframe tbody tr th:only-of-type {\n",
       "        vertical-align: middle;\n",
       "    }\n",
       "\n",
       "    .dataframe tbody tr th {\n",
       "        vertical-align: top;\n",
       "    }\n",
       "\n",
       "    .dataframe thead th {\n",
       "        text-align: right;\n",
       "    }\n",
       "</style>\n",
       "<table border=\"1\" class=\"dataframe\">\n",
       "  <thead>\n",
       "    <tr style=\"text-align: right;\">\n",
       "      <th></th>\n",
       "      <th>respondent_name</th>\n",
       "      <th>arid_2017</th>\n",
       "      <th>lei_2018</th>\n",
       "      <th>lei_2019</th>\n",
       "      <th>lei_2020</th>\n",
       "    </tr>\n",
       "  </thead>\n",
       "  <tbody>\n",
       "    <tr>\n",
       "      <th>0</th>\n",
       "      <td>First National Bank</td>\n",
       "      <td>110004</td>\n",
       "      <td>5493003EW6T31TGECO83</td>\n",
       "      <td>5493003EW6T31TGECO83</td>\n",
       "      <td>5493003EW6T31TGECO83</td>\n",
       "    </tr>\n",
       "    <tr>\n",
       "      <th>1</th>\n",
       "      <td>First Mid Bank &amp; Trust, National Association</td>\n",
       "      <td>110045</td>\n",
       "      <td>549300XOTES5TCS8T794</td>\n",
       "      <td>549300XOTES5TCS8T794</td>\n",
       "      <td>549300XOTES5TCS8T794</td>\n",
       "    </tr>\n",
       "    <tr>\n",
       "      <th>2</th>\n",
       "      <td>First Hope Bank, A National Banking Association</td>\n",
       "      <td>110118</td>\n",
       "      <td>5493003XLOX5FDT9R120</td>\n",
       "      <td>5493003XLOX5FDT9R120</td>\n",
       "      <td>5493003XLOX5FDT9R120</td>\n",
       "    </tr>\n",
       "  </tbody>\n",
       "</table>\n",
       "</div>"
      ],
      "text/plain": [
       "                                   respondent_name arid_2017  \\\n",
       "0                              First National Bank    110004   \n",
       "1     First Mid Bank & Trust, National Association    110045   \n",
       "2  First Hope Bank, A National Banking Association    110118   \n",
       "\n",
       "               lei_2018              lei_2019              lei_2020  \n",
       "0  5493003EW6T31TGECO83  5493003EW6T31TGECO83  5493003EW6T31TGECO83  \n",
       "1  549300XOTES5TCS8T794  549300XOTES5TCS8T794  549300XOTES5TCS8T794  \n",
       "2  5493003XLOX5FDT9R120  5493003XLOX5FDT9R120  5493003XLOX5FDT9R120  "
      ]
     },
     "execution_count": 16,
     "metadata": {},
     "output_type": "execute_result"
    }
   ],
   "source": [
    "spark.sql(\"\"\"\n",
    "            SELECT * FROM banks\n",
    "            LIMIT 3\n",
    "            \"\"\").toPandas()"
   ]
  },
  {
   "cell_type": "code",
   "execution_count": 17,
   "metadata": {},
   "outputs": [
    {
     "name": "stdout",
     "output_type": "stream",
     "text": [
      "== Physical Plan ==\n",
      "AdaptiveSparkPlan (8)\n",
      "+- Project (7)\n",
      "   +- BroadcastHashJoin Inner BuildLeft (6)\n",
      "      :- BroadcastExchange (3)\n",
      "      :  +- Filter (2)\n",
      "      :     +- Scan parquet spark_catalog.default.banks (1)\n",
      "      +- Filter (5)\n",
      "         +- Scan parquet spark_catalog.default.loans (4)\n",
      "\n",
      "\n",
      "(1) Scan parquet spark_catalog.default.banks\n",
      "Output [2]: [respondent_name#64, lei_2020#68]\n",
      "Batched: true\n",
      "Location: InMemoryFileIndex [hdfs://nn:9000/user/hive/warehouse/banks]\n",
      "PushedFilters: [IsNotNull(respondent_name), EqualTo(respondent_name,University of Wisconsin Credit Union), IsNotNull(lei_2020)]\n",
      "ReadSchema: struct<respondent_name:string,lei_2020:string>\n",
      "\n",
      "(2) Filter\n",
      "Input [2]: [respondent_name#64, lei_2020#68]\n",
      "Condition : ((isnotnull(respondent_name#64) AND (respondent_name#64 = University of Wisconsin Credit Union)) AND isnotnull(lei_2020#68))\n",
      "\n",
      "(3) BroadcastExchange\n",
      "Input [2]: [respondent_name#64, lei_2020#68]\n",
      "Arguments: HashedRelationBroadcastMode(List(input[1, string, false]),false), [plan_id=626]\n",
      "\n",
      "(4) Scan parquet spark_catalog.default.loans\n",
      "Output [1]: [lei#997]\n",
      "Batched: true\n",
      "Bucketed: false (bucket column(s) not read)\n",
      "Location: InMemoryFileIndex [hdfs://nn:9000/user/hive/warehouse/loans]\n",
      "PushedFilters: [IsNotNull(lei)]\n",
      "ReadSchema: struct<lei:string>\n",
      "\n",
      "(5) Filter\n",
      "Input [1]: [lei#997]\n",
      "Condition : isnotnull(lei#997)\n",
      "\n",
      "(6) BroadcastHashJoin\n",
      "Left keys [1]: [lei_2020#68]\n",
      "Right keys [1]: [lei#997]\n",
      "Join type: Inner\n",
      "Join condition: None\n",
      "\n",
      "(7) Project\n",
      "Output [2]: [lei_2020#68, respondent_name#64]\n",
      "Input [3]: [respondent_name#64, lei_2020#68, lei#997]\n",
      "\n",
      "(8) AdaptiveSparkPlan\n",
      "Output [2]: [lei_2020#68, respondent_name#64]\n",
      "Arguments: isFinalPlan=false\n",
      "\n",
      "\n"
     ]
    }
   ],
   "source": [
    "#q6\n",
    "spark.sql(\"\"\"\n",
    "            SELECT lei_2020, respondent_name FROM banks\n",
    "            INNER JOIN loans ON banks.lei_2020=loans.lei\n",
    "            WHERE respondent_name = 'University of Wisconsin Credit Union'\n",
    "            \"\"\").explain(\"formatted\")\n",
    "# filtered data from banks table is sent to every executor via a BroadcastExchange operation\n",
    "# There is no HashAggregate involved because there is not any Aggregate Functions such as COUNT()"
   ]
  },
  {
   "cell_type": "code",
   "execution_count": 18,
   "metadata": {},
   "outputs": [
    {
     "name": "stderr",
     "output_type": "stream",
     "text": [
      "                                                                                \r"
     ]
    },
    {
     "data": {
      "text/html": [
       "<div>\n",
       "<style scoped>\n",
       "    .dataframe tbody tr th:only-of-type {\n",
       "        vertical-align: middle;\n",
       "    }\n",
       "\n",
       "    .dataframe tbody tr th {\n",
       "        vertical-align: top;\n",
       "    }\n",
       "\n",
       "    .dataframe thead th {\n",
       "        text-align: right;\n",
       "    }\n",
       "</style>\n",
       "<table border=\"1\" class=\"dataframe\">\n",
       "  <thead>\n",
       "    <tr style=\"text-align: right;\">\n",
       "      <th></th>\n",
       "      <th>NAME</th>\n",
       "      <th>interest_rate</th>\n",
       "    </tr>\n",
       "  </thead>\n",
       "  <tbody>\n",
       "    <tr>\n",
       "      <th>0</th>\n",
       "      <td>Milwaukee</td>\n",
       "      <td>NA</td>\n",
       "    </tr>\n",
       "    <tr>\n",
       "      <th>1</th>\n",
       "      <td>Milwaukee</td>\n",
       "      <td>NA</td>\n",
       "    </tr>\n",
       "    <tr>\n",
       "      <th>2</th>\n",
       "      <td>Milwaukee</td>\n",
       "      <td>NA</td>\n",
       "    </tr>\n",
       "    <tr>\n",
       "      <th>3</th>\n",
       "      <td>Milwaukee</td>\n",
       "      <td>NA</td>\n",
       "    </tr>\n",
       "    <tr>\n",
       "      <th>4</th>\n",
       "      <td>Milwaukee</td>\n",
       "      <td>4.25</td>\n",
       "    </tr>\n",
       "    <tr>\n",
       "      <th>...</th>\n",
       "      <td>...</td>\n",
       "      <td>...</td>\n",
       "    </tr>\n",
       "    <tr>\n",
       "      <th>12669</th>\n",
       "      <td>Racine</td>\n",
       "      <td>3.75</td>\n",
       "    </tr>\n",
       "    <tr>\n",
       "      <th>12670</th>\n",
       "      <td>Racine</td>\n",
       "      <td>3.625</td>\n",
       "    </tr>\n",
       "    <tr>\n",
       "      <th>12671</th>\n",
       "      <td>Racine</td>\n",
       "      <td>6.0</td>\n",
       "    </tr>\n",
       "    <tr>\n",
       "      <th>12672</th>\n",
       "      <td>Racine</td>\n",
       "      <td>NA</td>\n",
       "    </tr>\n",
       "    <tr>\n",
       "      <th>12673</th>\n",
       "      <td>Racine</td>\n",
       "      <td>8.5</td>\n",
       "    </tr>\n",
       "  </tbody>\n",
       "</table>\n",
       "<p>12674 rows × 2 columns</p>\n",
       "</div>"
      ],
      "text/plain": [
       "            NAME interest_rate\n",
       "0      Milwaukee            NA\n",
       "1      Milwaukee            NA\n",
       "2      Milwaukee            NA\n",
       "3      Milwaukee            NA\n",
       "4      Milwaukee          4.25\n",
       "...          ...           ...\n",
       "12669     Racine          3.75\n",
       "12670     Racine         3.625\n",
       "12671     Racine           6.0\n",
       "12672     Racine            NA\n",
       "12673     Racine           8.5\n",
       "\n",
       "[12674 rows x 2 columns]"
      ]
     },
     "execution_count": 18,
     "metadata": {},
     "output_type": "execute_result"
    }
   ],
   "source": [
    "pandas_df = spark.sql(\"\"\"\n",
    "            SELECT NAME, interest_rate\n",
    "            FROM banks\n",
    "            INNER JOIN loans ON banks.lei_2020=loans.lei\n",
    "            INNER JOIN counties ON loans.county_code = counties.STATE*1000 + counties.COUNTY\n",
    "            WHERE respondent_name = 'Wells Fargo Bank, National Association'\n",
    "            \"\"\").toPandas()\n",
    "pandas_df"
   ]
  },
  {
   "cell_type": "code",
   "execution_count": 19,
   "metadata": {},
   "outputs": [
    {
     "name": "stderr",
     "output_type": "stream",
     "text": [
      "                                                                                \r"
     ]
    },
    {
     "data": {
      "text/plain": [
       "{'Milwaukee': 3.1173465727097907,\n",
       " 'Waukesha': 2.8758225602027756,\n",
       " 'Washington': 2.851009389671362,\n",
       " 'Dane': 2.890674955595027,\n",
       " 'Brown': 3.010949119373777,\n",
       " 'Racine': 3.099783715012723,\n",
       " 'Outagamie': 2.979661835748792,\n",
       " 'Winnebago': 3.0284761904761908,\n",
       " 'Ozaukee': 2.8673765432098772,\n",
       " 'Sheboygan': 2.995511111111111}"
      ]
     },
     "execution_count": 19,
     "metadata": {},
     "output_type": "execute_result"
    }
   ],
   "source": [
    "#q7\n",
    "pandas_df = spark.sql(\"\"\"\n",
    "            SELECT NAME, AVG(interest_rate) as average, COUNT(*) as count\n",
    "            FROM(\n",
    "                SELECT NAME, interest_rate\n",
    "                FROM banks\n",
    "                INNER JOIN loans ON banks.lei_2020=loans.lei\n",
    "                INNER JOIN counties ON loans.county_code = counties.STATE*1000 + counties.COUNTY\n",
    "                WHERE respondent_name = 'Wells Fargo Bank, National Association'\n",
    "            )\n",
    "            GROUP BY NAME\n",
    "            ORDER BY count DESC\n",
    "            LIMIT 10\n",
    "            \"\"\").toPandas()\n",
    "result = []\n",
    "for i, row in pandas_df.iterrows():\n",
    "    result.append((row['NAME'],row['average']))\n",
    "dict(result)"
   ]
  },
  {
   "cell_type": "code",
   "execution_count": 20,
   "metadata": {},
   "outputs": [
    {
     "data": {
      "text/plain": [
       "<Axes: xlabel='NAME'>"
      ]
     },
     "execution_count": 20,
     "metadata": {},
     "output_type": "execute_result"
    },
    {
     "data": {
      "image/png": "[encoded data removed]",
      "text/plain": [
       "<Figure size 640x480 with 1 Axes>"
      ]
     },
     "metadata": {},
     "output_type": "display_data"
    }
   ],
   "source": [
    "pandas_df.set_index(\"NAME\").plot.bar(y=\"average\")"
   ]
  },
  {
   "cell_type": "code",
   "execution_count": 21,
   "metadata": {},
   "outputs": [
    {
     "name": "stdout",
     "output_type": "stream",
     "text": [
      "== Physical Plan ==\n",
      "AdaptiveSparkPlan isFinalPlan=false\n",
      "+- HashAggregate(keys=[county_code#1000], functions=[mean(cast(interest_rate#1019 as double))])\n",
      "   +- HashAggregate(keys=[county_code#1000], functions=[partial_mean(cast(interest_rate#1019 as double))])\n",
      "      +- FileScan parquet spark_catalog.default.loans[county_code#1000,interest_rate#1019] Batched: true, Bucketed: true, DataFilters: [], Format: Parquet, Location: InMemoryFileIndex(1 paths)[hdfs://nn:9000/user/hive/warehouse/loans], PartitionFilters: [], PushedFilters: [], ReadSchema: struct<county_code:string,interest_rate:string>, SelectedBucketsCount: 8 out of 8\n",
      "\n",
      "\n",
      "== Physical Plan ==\n",
      "AdaptiveSparkPlan isFinalPlan=false\n",
      "+- HashAggregate(keys=[lei#997], functions=[mean(cast(interest_rate#1019 as double))])\n",
      "   +- Exchange hashpartitioning(lei#997, 200), ENSURE_REQUIREMENTS, [plan_id=1096]\n",
      "      +- HashAggregate(keys=[lei#997], functions=[partial_mean(cast(interest_rate#1019 as double))])\n",
      "         +- FileScan parquet spark_catalog.default.loans[lei#997,interest_rate#1019] Batched: true, Bucketed: false (bucket column(s) not read), DataFilters: [], Format: Parquet, Location: InMemoryFileIndex(1 paths)[hdfs://nn:9000/user/hive/warehouse/loans], PartitionFilters: [], PushedFilters: [], ReadSchema: struct<lei:string,interest_rate:string>\n",
      "\n",
      "\n"
     ]
    }
   ],
   "source": [
    "#q8\n",
    "df = spark.sql(\"\"\"\n",
    "    SELECT county_code, MEAN(interest_rate)\n",
    "    FROM loans\n",
    "    GROUP BY county_code\n",
    "\"\"\").explain()\n",
    "df = spark.sql(\"\"\"\n",
    "    SELECT lei, MEAN(interest_rate)\n",
    "    FROM loans\n",
    "    GROUP BY lei\n",
    "\"\"\").explain()\n",
    "# Network I/O is required when data grouped by a specific key is not located in the same partition.\n",
    "# For the first query to group by county_code, there is not shuffle, such as Exchange operation,\n",
    "# but there is a shuffle for the second query to group by lei. Therefore, when group by lei,\n",
    "# it needs to perform a shuffle to redistribute the data for same patition by new key required network I/O."
   ]
  },
  {
   "cell_type": "code",
   "execution_count": 22,
   "metadata": {},
   "outputs": [
    {
     "name": "stderr",
     "output_type": "stream",
     "text": [
      "                                                                                \r"
     ]
    },
    {
     "data": {
      "text/html": [
       "<div>\n",
       "<style scoped>\n",
       "    .dataframe tbody tr th:only-of-type {\n",
       "        vertical-align: middle;\n",
       "    }\n",
       "\n",
       "    .dataframe tbody tr th {\n",
       "        vertical-align: top;\n",
       "    }\n",
       "\n",
       "    .dataframe thead th {\n",
       "        text-align: right;\n",
       "    }\n",
       "</style>\n",
       "<table border=\"1\" class=\"dataframe\">\n",
       "  <thead>\n",
       "    <tr style=\"text-align: right;\">\n",
       "      <th></th>\n",
       "      <th>activity_year</th>\n",
       "      <th>lei</th>\n",
       "      <th>derived_msa-md</th>\n",
       "      <th>state_code</th>\n",
       "      <th>county_code</th>\n",
       "      <th>census_tract</th>\n",
       "      <th>conforming_loan_limit</th>\n",
       "      <th>derived_loan_product_type</th>\n",
       "      <th>derived_dwelling_category</th>\n",
       "      <th>derived_ethnicity</th>\n",
       "      <th>...</th>\n",
       "      <th>denial_reason-2</th>\n",
       "      <th>denial_reason-3</th>\n",
       "      <th>denial_reason-4</th>\n",
       "      <th>tract_population</th>\n",
       "      <th>tract_minority_population_percent</th>\n",
       "      <th>ffiec_msa_md_median_family_income</th>\n",
       "      <th>tract_to_msa_income_percentage</th>\n",
       "      <th>tract_owner_occupied_units</th>\n",
       "      <th>tract_one_to_four_family_homes</th>\n",
       "      <th>tract_median_age_of_housing_units</th>\n",
       "    </tr>\n",
       "  </thead>\n",
       "  <tbody>\n",
       "    <tr>\n",
       "      <th>0</th>\n",
       "      <td>2021</td>\n",
       "      <td>549300FQ2SN6TRRGB032</td>\n",
       "      <td>99999</td>\n",
       "      <td>WI</td>\n",
       "      <td>55055</td>\n",
       "      <td>55055100602</td>\n",
       "      <td>C</td>\n",
       "      <td>Conventional:First Lien</td>\n",
       "      <td>Single Family (1-4 Units):Site-Built</td>\n",
       "      <td>Not Hispanic or Latino</td>\n",
       "      <td>...</td>\n",
       "      <td>NaN</td>\n",
       "      <td>NaN</td>\n",
       "      <td>NaN</td>\n",
       "      <td>3351</td>\n",
       "      <td>2.98</td>\n",
       "      <td>69600</td>\n",
       "      <td>112</td>\n",
       "      <td>1201</td>\n",
       "      <td>1689</td>\n",
       "      <td>38</td>\n",
       "    </tr>\n",
       "    <tr>\n",
       "      <th>1</th>\n",
       "      <td>2021</td>\n",
       "      <td>254900HA4DQWAE0W3342</td>\n",
       "      <td>31540</td>\n",
       "      <td>WI</td>\n",
       "      <td>55025</td>\n",
       "      <td>55025012700</td>\n",
       "      <td>C</td>\n",
       "      <td>Conventional:First Lien</td>\n",
       "      <td>Single Family (1-4 Units):Site-Built</td>\n",
       "      <td>Ethnicity Not Available</td>\n",
       "      <td>...</td>\n",
       "      <td>NaN</td>\n",
       "      <td>NaN</td>\n",
       "      <td>NaN</td>\n",
       "      <td>4053</td>\n",
       "      <td>3.38</td>\n",
       "      <td>99000</td>\n",
       "      <td>109</td>\n",
       "      <td>1346</td>\n",
       "      <td>1638</td>\n",
       "      <td>27</td>\n",
       "    </tr>\n",
       "    <tr>\n",
       "      <th>2</th>\n",
       "      <td>2021</td>\n",
       "      <td>549300FQ2SN6TRRGB032</td>\n",
       "      <td>99999</td>\n",
       "      <td>WI</td>\n",
       "      <td>55113</td>\n",
       "      <td>55113100500</td>\n",
       "      <td>C</td>\n",
       "      <td>Conventional:First Lien</td>\n",
       "      <td>Single Family (1-4 Units):Site-Built</td>\n",
       "      <td>Not Hispanic or Latino</td>\n",
       "      <td>...</td>\n",
       "      <td>NaN</td>\n",
       "      <td>NaN</td>\n",
       "      <td>NaN</td>\n",
       "      <td>3378</td>\n",
       "      <td>3.46</td>\n",
       "      <td>69600</td>\n",
       "      <td>107</td>\n",
       "      <td>1475</td>\n",
       "      <td>4331</td>\n",
       "      <td>34</td>\n",
       "    </tr>\n",
       "  </tbody>\n",
       "</table>\n",
       "<p>3 rows × 99 columns</p>\n",
       "</div>"
      ],
      "text/plain": [
       "   activity_year                   lei  derived_msa-md state_code county_code  \\\n",
       "0           2021  549300FQ2SN6TRRGB032           99999         WI       55055   \n",
       "1           2021  254900HA4DQWAE0W3342           31540         WI       55025   \n",
       "2           2021  549300FQ2SN6TRRGB032           99999         WI       55113   \n",
       "\n",
       "  census_tract conforming_loan_limit derived_loan_product_type  \\\n",
       "0  55055100602                     C   Conventional:First Lien   \n",
       "1  55025012700                     C   Conventional:First Lien   \n",
       "2  55113100500                     C   Conventional:First Lien   \n",
       "\n",
       "              derived_dwelling_category        derived_ethnicity  ...  \\\n",
       "0  Single Family (1-4 Units):Site-Built   Not Hispanic or Latino  ...   \n",
       "1  Single Family (1-4 Units):Site-Built  Ethnicity Not Available  ...   \n",
       "2  Single Family (1-4 Units):Site-Built   Not Hispanic or Latino  ...   \n",
       "\n",
       "  denial_reason-2 denial_reason-3  denial_reason-4  tract_population  \\\n",
       "0             NaN             NaN              NaN              3351   \n",
       "1             NaN             NaN              NaN              4053   \n",
       "2             NaN             NaN              NaN              3378   \n",
       "\n",
       "   tract_minority_population_percent  ffiec_msa_md_median_family_income  \\\n",
       "0                               2.98                              69600   \n",
       "1                               3.38                              99000   \n",
       "2                               3.46                              69600   \n",
       "\n",
       "   tract_to_msa_income_percentage  tract_owner_occupied_units  \\\n",
       "0                             112                        1201   \n",
       "1                             109                        1346   \n",
       "2                             107                        1475   \n",
       "\n",
       "   tract_one_to_four_family_homes  tract_median_age_of_housing_units  \n",
       "0                            1689                                 38  \n",
       "1                            1638                                 27  \n",
       "2                            4331                                 34  \n",
       "\n",
       "[3 rows x 99 columns]"
      ]
     },
     "execution_count": 22,
     "metadata": {},
     "output_type": "execute_result"
    }
   ],
   "source": [
    "df = spark.sql(\"\"\"\n",
    "    SELECT * from loans\n",
    "    LIMIT 3\n",
    "\"\"\").toPandas()\n",
    "df"
   ]
  },
  {
   "cell_type": "code",
   "execution_count": 23,
   "metadata": {},
   "outputs": [],
   "source": [
    "from pyspark.sql import DataFrame\n",
    "from pyspark.sql.functions import col, expr"
   ]
  },
  {
   "cell_type": "code",
   "execution_count": 24,
   "metadata": {},
   "outputs": [
    {
     "name": "stderr",
     "output_type": "stream",
     "text": [
      "                                                                                \r"
     ]
    },
    {
     "name": "stdout",
     "output_type": "stream",
     "text": [
      "+-----------+------+-------------+--------+\n",
      "|loan_amount|income|interest_rate|approval|\n",
      "+-----------+------+-------------+--------+\n",
      "|   255000.0| 210.0|          0.0|     1.0|\n",
      "|   435000.0|   0.0|        3.125|     0.0|\n",
      "|   435000.0| 190.0|          0.0|     1.0|\n",
      "|   165000.0|   0.0|         3.25|     0.0|\n",
      "|   205000.0|   0.0|          0.0|     1.0|\n",
      "|   305000.0|   0.0|          3.5|     0.0|\n",
      "|   195000.0|  43.0|         2.75|     1.0|\n",
      "|   185000.0|   0.0|          3.5|     0.0|\n",
      "|   265000.0|  93.0|         2.75|     1.0|\n",
      "|   185000.0|   0.0|         3.25|     0.0|\n",
      "|   475000.0|   0.0|        1.999|     1.0|\n",
      "|   235000.0|   0.0|         3.25|     0.0|\n",
      "|   425000.0|   0.0|          2.0|     1.0|\n",
      "|   235000.0|   0.0|         3.25|     0.0|\n",
      "|   185000.0|   0.0|         2.25|     1.0|\n",
      "|   385000.0|   0.0|          3.0|     0.0|\n",
      "|   365000.0| 321.0|        2.625|     1.0|\n",
      "|   155000.0|   0.0|          2.5|     0.0|\n",
      "|   245000.0|   0.0|         3.75|     1.0|\n",
      "|   315000.0|   0.0|          3.0|     0.0|\n",
      "+-----------+------+-------------+--------+\n",
      "only showing top 20 rows\n",
      "\n"
     ]
    }
   ],
   "source": [
    "df = spark.sql(\"\"\"\n",
    "    SELECT loan_amount, income, interest_rate, id as approval from loans \n",
    "    INNER JOIN action_taken ON loans.action_taken = action_taken.id\n",
    "\"\"\")\n",
    "df = df.withColumn(\"income\", col(\"income\").cast(\"double\"))\n",
    "df = df.withColumn(\"approval\", col(\"approval\").cast(\"double\"))\n",
    "df = df.withColumn(\"interest_rate\", col(\"interest_rate\").cast(\"double\"))\n",
    "df = df.withColumn(\"income\", expr(\"IFNULL(income, 0.0)\"))\n",
    "df = df.withColumn(\"interest_rate\", expr(\"IFNULL(interest_rate, 0.0)\"))\n",
    "df = df.withColumn(\"approval\", expr(\"CASE WHEN approval != 1 THEN 0.0 ELSE approval END\"))\n",
    "df.show()"
   ]
  },
  {
   "cell_type": "code",
   "execution_count": 25,
   "metadata": {},
   "outputs": [],
   "source": [
    "# deterministic split\n",
    "train, test = df.randomSplit([0.8, 0.2], seed=41) "
   ]
  },
  {
   "cell_type": "code",
   "execution_count": 26,
   "metadata": {},
   "outputs": [
    {
     "name": "stderr",
     "output_type": "stream",
     "text": [
      "                                                                                \r"
     ]
    },
    {
     "data": {
      "text/plain": [
       "242868"
      ]
     },
     "execution_count": 26,
     "metadata": {},
     "output_type": "execute_result"
    }
   ],
   "source": [
    "#q9\n",
    "train.rdd.filter(lambda x :x.approval == 1).count()"
   ]
  },
  {
   "cell_type": "code",
   "execution_count": 27,
   "metadata": {},
   "outputs": [],
   "source": [
    "from pyspark.ml.feature import VectorAssembler\n",
    "from pyspark.ml.classification import DecisionTreeClassifier"
   ]
  },
  {
   "cell_type": "code",
   "execution_count": 28,
   "metadata": {},
   "outputs": [
    {
     "name": "stderr",
     "output_type": "stream",
     "text": [
      "[Stage 57:>                                                         (0 + 1) / 1]\r"
     ]
    },
    {
     "name": "stdout",
     "output_type": "stream",
     "text": [
      "+-----------+------+-------------+--------+----------------+\n",
      "|loan_amount|income|interest_rate|approval|        features|\n",
      "+-----------+------+-------------+--------+----------------+\n",
      "|     5000.0|   0.0|          0.0|     0.0|[5000.0,0.0,0.0]|\n",
      "|     5000.0|   0.0|          0.0|     0.0|[5000.0,0.0,0.0]|\n",
      "|     5000.0|   0.0|          0.0|     0.0|[5000.0,0.0,0.0]|\n",
      "|     5000.0|   0.0|          0.0|     0.0|[5000.0,0.0,0.0]|\n",
      "|     5000.0|   0.0|          0.0|     0.0|[5000.0,0.0,0.0]|\n",
      "|     5000.0|   0.0|          0.0|     0.0|[5000.0,0.0,0.0]|\n",
      "|     5000.0|   0.0|          0.0|     0.0|[5000.0,0.0,0.0]|\n",
      "|     5000.0|   0.0|          0.0|     0.0|[5000.0,0.0,0.0]|\n",
      "|     5000.0|   0.0|          0.0|     0.0|[5000.0,0.0,0.0]|\n",
      "|     5000.0|   0.0|          0.0|     0.0|[5000.0,0.0,0.0]|\n",
      "|     5000.0|   0.0|          0.0|     0.0|[5000.0,0.0,0.0]|\n",
      "|     5000.0|   0.0|          0.0|     0.0|[5000.0,0.0,0.0]|\n",
      "|     5000.0|   0.0|          0.0|     0.0|[5000.0,0.0,0.0]|\n",
      "|     5000.0|   0.0|          0.0|     0.0|[5000.0,0.0,0.0]|\n",
      "|     5000.0|   0.0|          0.0|     0.0|[5000.0,0.0,0.0]|\n",
      "|     5000.0|   0.0|          0.0|     0.0|[5000.0,0.0,0.0]|\n",
      "|     5000.0|   0.0|          0.0|     0.0|[5000.0,0.0,0.0]|\n",
      "|     5000.0|   0.0|          0.0|     0.0|[5000.0,0.0,0.0]|\n",
      "|     5000.0|   0.0|          0.0|     0.0|[5000.0,0.0,0.0]|\n",
      "|     5000.0|   0.0|          0.0|     0.0|[5000.0,0.0,0.0]|\n",
      "+-----------+------+-------------+--------+----------------+\n",
      "only showing top 20 rows\n",
      "\n"
     ]
    },
    {
     "name": "stderr",
     "output_type": "stream",
     "text": [
      "                                                                                \r"
     ]
    }
   ],
   "source": [
    "va = VectorAssembler(inputCols=[\"loan_amount\",\"income\",\"interest_rate\"], outputCol=\"features\")\n",
    "dt = DecisionTreeClassifier(labelCol=\"approval\", featuresCol=\"features\", maxDepth=5)\n",
    "va.transform(train).show()"
   ]
  },
  {
   "cell_type": "code",
   "execution_count": 29,
   "metadata": {},
   "outputs": [
    {
     "name": "stderr",
     "output_type": "stream",
     "text": [
      "                                                                                \r"
     ]
    }
   ],
   "source": [
    "model = dt.fit(va.transform(train))"
   ]
  },
  {
   "cell_type": "code",
   "execution_count": 30,
   "metadata": {},
   "outputs": [],
   "source": [
    "from pyspark.ml.pipeline import Pipeline, PipelineModel"
   ]
  },
  {
   "cell_type": "code",
   "execution_count": 31,
   "metadata": {},
   "outputs": [],
   "source": [
    "pipe = Pipeline(stages=[va, dt])"
   ]
  },
  {
   "cell_type": "code",
   "execution_count": 32,
   "metadata": {},
   "outputs": [
    {
     "name": "stderr",
     "output_type": "stream",
     "text": [
      "                                                                                \r"
     ]
    },
    {
     "data": {
      "text/plain": [
       "(pyspark.ml.pipeline.Pipeline, pyspark.ml.pipeline.PipelineModel)"
      ]
     },
     "execution_count": 32,
     "metadata": {},
     "output_type": "execute_result"
    }
   ],
   "source": [
    "model = pipe.fit(train)\n",
    "type(pipe), type(model)"
   ]
  },
  {
   "cell_type": "code",
   "execution_count": 33,
   "metadata": {},
   "outputs": [],
   "source": [
    "model.write().overwrite().save(\"hdfs://nn:9000/model\")"
   ]
  },
  {
   "cell_type": "code",
   "execution_count": 34,
   "metadata": {},
   "outputs": [],
   "source": [
    "model = PipelineModel.load(\"hdfs://nn:9000/model\")"
   ]
  },
  {
   "cell_type": "code",
   "execution_count": 35,
   "metadata": {},
   "outputs": [
    {
     "name": "stderr",
     "output_type": "stream",
     "text": [
      "                                                                                \r"
     ]
    },
    {
     "data": {
      "text/plain": [
       "0.8930753904206413"
      ]
     },
     "execution_count": 35,
     "metadata": {},
     "output_type": "execute_result"
    }
   ],
   "source": [
    "#q10\n",
    "from pyspark.ml.evaluation import MulticlassClassificationEvaluator\n",
    "evaluator = MulticlassClassificationEvaluator(labelCol=\"approval\", predictionCol=\"prediction\", metricName=\"accuracy\")\n",
    "accuracy = evaluator.evaluate(model.transform(test))\n",
    "accuracy\n"
   ]
  },
  {
   "cell_type": "code",
   "execution_count": null,
   "metadata": {},
   "outputs": [],
   "source": []
  }
 ],
 "metadata": {
  "kernelspec": {
   "display_name": "Python 3 (ipykernel)",
   "language": "python",
   "name": "python3"
  },
  "language_info": {
   "codemirror_mode": {
    "name": "ipython",
    "version": 3
   },
   "file_extension": ".py",
   "mimetype": "text/x-python",
   "name": "python",
   "nbconvert_exporter": "python",
   "pygments_lexer": "ipython3",
   "version": "3.10.12"
  }
 },
 "nbformat": 4,
 "nbformat_minor": 4
}
