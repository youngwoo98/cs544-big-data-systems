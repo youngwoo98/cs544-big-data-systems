{
 "cells": [
  {
   "cell_type": "code",
   "execution_count": 1,
   "id": "9b5c9715-a861-4b13-88f7-3cf7115678e9",
   "metadata": {
    "execution": {
     "iopub.execute_input": "2023-11-20T23:49:25.900754Z",
     "iopub.status.busy": "2023-11-20T23:49:25.899548Z",
     "iopub.status.idle": "2023-11-20T23:49:28.565811Z",
     "shell.execute_reply": "2023-11-20T23:49:28.564690Z"
    }
   },
   "outputs": [
    {
     "name": "stdout",
     "output_type": "stream",
     "text": [
      "Datacenter: datacenter1\r\n",
      "=======================\r\n",
      "Status=Up/Down\r\n",
      "|/ State=Normal/Leaving/Joining/Moving\r\n",
      "--  Address      Load       Tokens  Owns (effective)  Host ID                               Rack \r\n",
      "UN  192.168.0.4  70.26 KiB  16      47.6%             a0ba96a2-9f3b-4697-a5cd-a1109d094155  rack1\r\n",
      "UN  192.168.0.2  70.27 KiB  16      93.0%             ac5e7d77-7daf-4a22-b35c-2819d2b1f7c9  rack1\r\n",
      "UN  192.168.0.3  70.27 KiB  16      59.3%             a5e972ef-4fab-43eb-b991-8b7d59864bde  rack1\r\n",
      "\r\n"
     ]
    }
   ],
   "source": [
    "!nodetool status"
   ]
  },
  {
   "cell_type": "code",
   "execution_count": 2,
   "id": "9ca525cc-2995-43af-bfd2-7babd31f9aaa",
   "metadata": {
    "execution": {
     "iopub.execute_input": "2023-11-20T23:49:28.570944Z",
     "iopub.status.busy": "2023-11-20T23:49:28.570583Z",
     "iopub.status.idle": "2023-11-20T23:49:29.418012Z",
     "shell.execute_reply": "2023-11-20T23:49:29.416816Z"
    }
   },
   "outputs": [],
   "source": [
    "from cassandra.cluster import Cluster\n",
    "cluster = Cluster(['p6-db-1', 'p6-db-2', 'p6-db-3'])\n",
    "cass = cluster.connect()"
   ]
  },
  {
   "cell_type": "code",
   "execution_count": 3,
   "id": "9d565805-24f2-46cb-a76a-e3839cde0af5",
   "metadata": {
    "execution": {
     "iopub.execute_input": "2023-11-20T23:49:29.424085Z",
     "iopub.status.busy": "2023-11-20T23:49:29.423469Z",
     "iopub.status.idle": "2023-11-20T23:49:29.488726Z",
     "shell.execute_reply": "2023-11-20T23:49:29.487614Z"
    }
   },
   "outputs": [
    {
     "data": {
      "text/plain": [
       "<cassandra.cluster.ResultSet at 0x7ff2e4217c70>"
      ]
     },
     "execution_count": 3,
     "metadata": {},
     "output_type": "execute_result"
    }
   ],
   "source": [
    "cass.execute(\"drop keyspace if exists weather\")"
   ]
  },
  {
   "cell_type": "code",
   "execution_count": 4,
   "id": "dfb84679-c42c-44dd-a9a4-1d5cb3214c09",
   "metadata": {
    "execution": {
     "iopub.execute_input": "2023-11-20T23:49:29.494298Z",
     "iopub.status.busy": "2023-11-20T23:49:29.493471Z",
     "iopub.status.idle": "2023-11-20T23:49:30.882883Z",
     "shell.execute_reply": "2023-11-20T23:49:30.881396Z"
    }
   },
   "outputs": [
    {
     "data": {
      "text/plain": [
       "<cassandra.cluster.ResultSet at 0x7ff2bc7d9a80>"
      ]
     },
     "execution_count": 4,
     "metadata": {},
     "output_type": "execute_result"
    }
   ],
   "source": [
    "cass.execute(\"create keyspace weather with replication={'class': 'SimpleStrategy', 'replication_factor': 3};\")"
   ]
  },
  {
   "cell_type": "code",
   "execution_count": 5,
   "id": "618330fe-d96e-4d3c-b531-7e65d2d75f9e",
   "metadata": {
    "execution": {
     "iopub.execute_input": "2023-11-20T23:49:30.890255Z",
     "iopub.status.busy": "2023-11-20T23:49:30.889188Z",
     "iopub.status.idle": "2023-11-20T23:49:30.942237Z",
     "shell.execute_reply": "2023-11-20T23:49:30.940424Z"
    }
   },
   "outputs": [
    {
     "data": {
      "text/plain": [
       "<cassandra.cluster.ResultSet at 0x7ff2bc7362c0>"
      ]
     },
     "execution_count": 5,
     "metadata": {},
     "output_type": "execute_result"
    }
   ],
   "source": [
    "cass.execute(\"use weather\")"
   ]
  },
  {
   "cell_type": "code",
   "execution_count": 6,
   "id": "e0118416-3236-4bbc-bdc1-6562fa5abc49",
   "metadata": {
    "execution": {
     "iopub.execute_input": "2023-11-20T23:49:30.948771Z",
     "iopub.status.busy": "2023-11-20T23:49:30.947312Z",
     "iopub.status.idle": "2023-11-20T23:49:32.630557Z",
     "shell.execute_reply": "2023-11-20T23:49:32.629349Z"
    }
   },
   "outputs": [
    {
     "data": {
      "text/plain": [
       "<cassandra.cluster.ResultSet at 0x7ff2bc7da590>"
      ]
     },
     "execution_count": 6,
     "metadata": {},
     "output_type": "execute_result"
    }
   ],
   "source": [
    "cass.execute(\"\"\"\n",
    "create type weather.station_record(\n",
    "    tmin INT,\n",
    "    tmax INT\n",
    ")\n",
    "\"\"\")"
   ]
  },
  {
   "cell_type": "code",
   "execution_count": 7,
   "id": "0d017e1d-b2b5-48a2-9c35-2f0c5ff8ed95",
   "metadata": {
    "execution": {
     "iopub.execute_input": "2023-11-20T23:49:32.636196Z",
     "iopub.status.busy": "2023-11-20T23:49:32.635295Z",
     "iopub.status.idle": "2023-11-20T23:49:34.169701Z",
     "shell.execute_reply": "2023-11-20T23:49:34.168448Z"
    }
   },
   "outputs": [
    {
     "data": {
      "text/plain": [
       "<cassandra.cluster.ResultSet at 0x7ff2bc7da980>"
      ]
     },
     "execution_count": 7,
     "metadata": {},
     "output_type": "execute_result"
    }
   ],
   "source": [
    "cass.execute(\"\"\"\n",
    "create table weather.stations(\n",
    "    id  TEXT,\n",
    "    name TEXT static,\n",
    "    date DATE,\n",
    "    record station_record,\n",
    "    PRIMARY KEY (id, date)\n",
    ") WITH CLUSTERING ORDER BY (date ASC)\n",
    "\"\"\")"
   ]
  },
  {
   "cell_type": "code",
   "execution_count": 8,
   "id": "02ecb160-a454-4ea1-b3ef-e082cd6075f1",
   "metadata": {
    "execution": {
     "iopub.execute_input": "2023-11-20T23:49:34.182274Z",
     "iopub.status.busy": "2023-11-20T23:49:34.180233Z",
     "iopub.status.idle": "2023-11-20T23:49:34.223911Z",
     "shell.execute_reply": "2023-11-20T23:49:34.221938Z"
    }
   },
   "outputs": [
    {
     "name": "stdout",
     "output_type": "stream",
     "text": [
      "CREATE TABLE weather.stations (\n",
      "    id text,\n",
      "    date date,\n",
      "    name text static,\n",
      "    record station_record,\n",
      "    PRIMARY KEY (id, date)\n",
      ") WITH CLUSTERING ORDER BY (date ASC)\n",
      "    AND additional_write_policy = '99p'\n",
      "    AND bloom_filter_fp_chance = 0.01\n",
      "    AND caching = {'keys': 'ALL', 'rows_per_partition': 'NONE'}\n",
      "    AND cdc = false\n",
      "    AND comment = ''\n",
      "    AND compaction = {'class': 'org.apache.cassandra.db.compaction.SizeTieredCompactionStrategy', 'max_threshold': '32', 'min_threshold': '4'}\n",
      "    AND compression = {'chunk_length_in_kb': '16', 'class': 'org.apache.cassandra.io.compress.LZ4Compressor'}\n",
      "    AND memtable = 'default'\n",
      "    AND crc_check_chance = 1.0\n",
      "    AND default_time_to_live = 0\n",
      "    AND extensions = {}\n",
      "    AND gc_grace_seconds = 864000\n",
      "    AND max_index_interval = 2048\n",
      "    AND memtable_flush_period_in_ms = 0\n",
      "    AND min_index_interval = 128\n",
      "    AND read_repair = 'BLOCKING'\n",
      "    AND speculative_retry = '99p';\n"
     ]
    }
   ],
   "source": [
    "print(cass.execute(\"describe table weather.stations\").one().create_statement)"
   ]
  },
  {
   "cell_type": "code",
   "execution_count": 9,
   "id": "64154420-0b56-4c77-a0da-6ae1308b081f",
   "metadata": {
    "execution": {
     "iopub.execute_input": "2023-11-20T23:49:34.229450Z",
     "iopub.status.busy": "2023-11-20T23:49:34.229021Z",
     "iopub.status.idle": "2023-11-20T23:49:49.526248Z",
     "shell.execute_reply": "2023-11-20T23:49:49.524616Z"
    }
   },
   "outputs": [
    {
     "name": "stdout",
     "output_type": "stream",
     "text": [
      ":: loading settings :: url = jar:file:/usr/local/lib/python3.10/dist-packages/pyspark/jars/ivy-2.5.1.jar!/org/apache/ivy/core/settings/ivysettings.xml\n"
     ]
    },
    {
     "name": "stderr",
     "output_type": "stream",
     "text": [
      "Ivy Default Cache set to: /root/.ivy2/cache\n",
      "The jars for the packages stored in: /root/.ivy2/jars\n",
      "com.datastax.spark#spark-cassandra-connector_2.12 added as a dependency\n",
      ":: resolving dependencies :: org.apache.spark#spark-submit-parent-046a3db5-6c66-4b0d-892a-10fdb99296fa;1.0\n",
      "\tconfs: [default]\n"
     ]
    },
    {
     "name": "stderr",
     "output_type": "stream",
     "text": [
      "\tfound com.datastax.spark#spark-cassandra-connector_2.12;3.4.0 in central\n",
      "\tfound com.datastax.spark#spark-cassandra-connector-driver_2.12;3.4.0 in central\n"
     ]
    },
    {
     "name": "stderr",
     "output_type": "stream",
     "text": [
      "\tfound com.datastax.oss#java-driver-core-shaded;4.13.0 in central\n",
      "\tfound com.datastax.oss#native-protocol;1.5.0 in central\n",
      "\tfound com.datastax.oss#java-driver-shaded-guava;25.1-jre-graal-sub-1 in central\n"
     ]
    },
    {
     "name": "stderr",
     "output_type": "stream",
     "text": [
      "\tfound com.typesafe#config;1.4.1 in central\n"
     ]
    },
    {
     "name": "stderr",
     "output_type": "stream",
     "text": [
      "\tfound org.slf4j#slf4j-api;1.7.26 in central\n"
     ]
    },
    {
     "name": "stderr",
     "output_type": "stream",
     "text": [
      "\tfound io.dropwizard.metrics#metrics-core;4.1.18 in central\n",
      "\tfound org.hdrhistogram#HdrHistogram;2.1.12 in central\n",
      "\tfound org.reactivestreams#reactive-streams;1.0.3 in central\n"
     ]
    },
    {
     "name": "stderr",
     "output_type": "stream",
     "text": [
      "\tfound com.github.stephenc.jcip#jcip-annotations;1.0-1 in central\n",
      "\tfound com.github.spotbugs#spotbugs-annotations;3.1.12 in central\n"
     ]
    },
    {
     "name": "stderr",
     "output_type": "stream",
     "text": [
      "\tfound com.google.code.findbugs#jsr305;3.0.2 in central\n",
      "\tfound com.datastax.oss#java-driver-mapper-runtime;4.13.0 in central\n"
     ]
    },
    {
     "name": "stderr",
     "output_type": "stream",
     "text": [
      "\tfound com.datastax.oss#java-driver-query-builder;4.13.0 in central\n"
     ]
    },
    {
     "name": "stderr",
     "output_type": "stream",
     "text": [
      "\tfound org.apache.commons#commons-lang3;3.10 in central\n"
     ]
    },
    {
     "name": "stderr",
     "output_type": "stream",
     "text": [
      "\tfound com.thoughtworks.paranamer#paranamer;2.8 in central\n",
      "\tfound org.scala-lang#scala-reflect;2.12.11 in central\n",
      "downloading https://repo1.maven.org/maven2/com/datastax/spark/spark-cassandra-connector_2.12/3.4.0/spark-cassandra-connector_2.12-3.4.0.jar ...\n"
     ]
    },
    {
     "name": "stderr",
     "output_type": "stream",
     "text": [
      "\t[SUCCESSFUL ] com.datastax.spark#spark-cassandra-connector_2.12;3.4.0!spark-cassandra-connector_2.12.jar (135ms)\n",
      "downloading https://repo1.maven.org/maven2/com/datastax/spark/spark-cassandra-connector-driver_2.12/3.4.0/spark-cassandra-connector-driver_2.12-3.4.0.jar ...\n",
      "\t[SUCCESSFUL ] com.datastax.spark#spark-cassandra-connector-driver_2.12;3.4.0!spark-cassandra-connector-driver_2.12.jar (74ms)\n",
      "downloading https://repo1.maven.org/maven2/com/datastax/oss/java-driver-core-shaded/4.13.0/java-driver-core-shaded-4.13.0.jar ...\n"
     ]
    },
    {
     "name": "stderr",
     "output_type": "stream",
     "text": [
      "\t[SUCCESSFUL ] com.datastax.oss#java-driver-core-shaded;4.13.0!java-driver-core-shaded.jar (490ms)\n",
      "downloading https://repo1.maven.org/maven2/com/datastax/oss/java-driver-mapper-runtime/4.13.0/java-driver-mapper-runtime-4.13.0.jar ...\n",
      "\t[SUCCESSFUL ] com.datastax.oss#java-driver-mapper-runtime;4.13.0!java-driver-mapper-runtime.jar(bundle) (30ms)\n",
      "downloading https://repo1.maven.org/maven2/org/apache/commons/commons-lang3/3.10/commons-lang3-3.10.jar ...\n",
      "\t[SUCCESSFUL ] org.apache.commons#commons-lang3;3.10!commons-lang3.jar (47ms)\n",
      "downloading https://repo1.maven.org/maven2/com/thoughtworks/paranamer/paranamer/2.8/paranamer-2.8.jar ...\n",
      "\t[SUCCESSFUL ] com.thoughtworks.paranamer#paranamer;2.8!paranamer.jar(bundle) (29ms)\n",
      "downloading https://repo1.maven.org/maven2/org/scala-lang/scala-reflect/2.12.11/scala-reflect-2.12.11.jar ...\n"
     ]
    },
    {
     "name": "stderr",
     "output_type": "stream",
     "text": [
      "\t[SUCCESSFUL ] org.scala-lang#scala-reflect;2.12.11!scala-reflect.jar (148ms)\n",
      "downloading https://repo1.maven.org/maven2/com/datastax/oss/native-protocol/1.5.0/native-protocol-1.5.0.jar ...\n",
      "\t[SUCCESSFUL ] com.datastax.oss#native-protocol;1.5.0!native-protocol.jar(bundle) (38ms)\n",
      "downloading https://repo1.maven.org/maven2/com/datastax/oss/java-driver-shaded-guava/25.1-jre-graal-sub-1/java-driver-shaded-guava-25.1-jre-graal-sub-1.jar ...\n",
      "\t[SUCCESSFUL ] com.datastax.oss#java-driver-shaded-guava;25.1-jre-graal-sub-1!java-driver-shaded-guava.jar (97ms)\n",
      "downloading https://repo1.maven.org/maven2/com/typesafe/config/1.4.1/config-1.4.1.jar ...\n",
      "\t[SUCCESSFUL ] com.typesafe#config;1.4.1!config.jar(bundle) (31ms)\n",
      "downloading https://repo1.maven.org/maven2/org/slf4j/slf4j-api/1.7.26/slf4j-api-1.7.26.jar ...\n",
      "\t[SUCCESSFUL ] org.slf4j#slf4j-api;1.7.26!slf4j-api.jar (30ms)\n"
     ]
    },
    {
     "name": "stderr",
     "output_type": "stream",
     "text": [
      "downloading https://repo1.maven.org/maven2/io/dropwizard/metrics/metrics-core/4.1.18/metrics-core-4.1.18.jar ...\n",
      "\t[SUCCESSFUL ] io.dropwizard.metrics#metrics-core;4.1.18!metrics-core.jar(bundle) (31ms)\n",
      "downloading https://repo1.maven.org/maven2/org/hdrhistogram/HdrHistogram/2.1.12/HdrHistogram-2.1.12.jar ...\n",
      "\t[SUCCESSFUL ] org.hdrhistogram#HdrHistogram;2.1.12!HdrHistogram.jar(bundle) (32ms)\n",
      "downloading https://repo1.maven.org/maven2/org/reactivestreams/reactive-streams/1.0.3/reactive-streams-1.0.3.jar ...\n",
      "\t[SUCCESSFUL ] org.reactivestreams#reactive-streams;1.0.3!reactive-streams.jar (29ms)\n",
      "downloading https://repo1.maven.org/maven2/com/github/stephenc/jcip/jcip-annotations/1.0-1/jcip-annotations-1.0-1.jar ...\n",
      "\t[SUCCESSFUL ] com.github.stephenc.jcip#jcip-annotations;1.0-1!jcip-annotations.jar (27ms)\n",
      "downloading https://repo1.maven.org/maven2/com/github/spotbugs/spotbugs-annotations/3.1.12/spotbugs-annotations-3.1.12.jar ...\n",
      "\t[SUCCESSFUL ] com.github.spotbugs#spotbugs-annotations;3.1.12!spotbugs-annotations.jar (27ms)\n",
      "downloading https://repo1.maven.org/maven2/com/google/code/findbugs/jsr305/3.0.2/jsr305-3.0.2.jar ...\n",
      "\t[SUCCESSFUL ] com.google.code.findbugs#jsr305;3.0.2!jsr305.jar (28ms)\n",
      "downloading https://repo1.maven.org/maven2/com/datastax/oss/java-driver-query-builder/4.13.0/java-driver-query-builder-4.13.0.jar ...\n"
     ]
    },
    {
     "name": "stderr",
     "output_type": "stream",
     "text": [
      "\t[SUCCESSFUL ] com.datastax.oss#java-driver-query-builder;4.13.0!java-driver-query-builder.jar(bundle) (35ms)\n",
      ":: resolution report :: resolve 5488ms :: artifacts dl 1387ms\n",
      "\t:: modules in use:\n",
      "\tcom.datastax.oss#java-driver-core-shaded;4.13.0 from central in [default]\n",
      "\tcom.datastax.oss#java-driver-mapper-runtime;4.13.0 from central in [default]\n",
      "\tcom.datastax.oss#java-driver-query-builder;4.13.0 from central in [default]\n",
      "\tcom.datastax.oss#java-driver-shaded-guava;25.1-jre-graal-sub-1 from central in [default]\n",
      "\tcom.datastax.oss#native-protocol;1.5.0 from central in [default]\n",
      "\tcom.datastax.spark#spark-cassandra-connector-driver_2.12;3.4.0 from central in [default]\n",
      "\tcom.datastax.spark#spark-cassandra-connector_2.12;3.4.0 from central in [default]\n",
      "\tcom.github.spotbugs#spotbugs-annotations;3.1.12 from central in [default]\n",
      "\tcom.github.stephenc.jcip#jcip-annotations;1.0-1 from central in [default]\n",
      "\tcom.google.code.findbugs#jsr305;3.0.2 from central in [default]\n",
      "\tcom.thoughtworks.paranamer#paranamer;2.8 from central in [default]\n",
      "\tcom.typesafe#config;1.4.1 from central in [default]\n",
      "\tio.dropwizard.metrics#metrics-core;4.1.18 from central in [default]\n",
      "\torg.apache.commons#commons-lang3;3.10 from central in [default]\n",
      "\torg.hdrhistogram#HdrHistogram;2.1.12 from central in [default]\n",
      "\torg.reactivestreams#reactive-streams;1.0.3 from central in [default]\n",
      "\torg.scala-lang#scala-reflect;2.12.11 from central in [default]\n",
      "\torg.slf4j#slf4j-api;1.7.26 from central in [default]\n",
      "\t---------------------------------------------------------------------\n",
      "\t|                  |            modules            ||   artifacts   |\n",
      "\t|       conf       | number| search|dwnlded|evicted|| number|dwnlded|\n",
      "\t---------------------------------------------------------------------\n",
      "\t|      default     |   18  |   18  |   18  |   0   ||   18  |   18  |\n",
      "\t---------------------------------------------------------------------\n",
      ":: retrieving :: org.apache.spark#spark-submit-parent-046a3db5-6c66-4b0d-892a-10fdb99296fa\n",
      "\tconfs: [default]\n",
      "\t18 artifacts copied, 0 already retrieved (18067kB/54ms)\n"
     ]
    },
    {
     "name": "stderr",
     "output_type": "stream",
     "text": [
      "23/11/20 23:49:44 WARN NativeCodeLoader: Unable to load native-hadoop library for your platform... using builtin-java classes where applicable\n"
     ]
    },
    {
     "name": "stderr",
     "output_type": "stream",
     "text": [
      "Setting default log level to \"WARN\".\n",
      "To adjust logging level use sc.setLogLevel(newLevel). For SparkR, use setLogLevel(newLevel).\n"
     ]
    }
   ],
   "source": [
    "from pyspark.sql import SparkSession\n",
    "spark = (SparkSession.builder\n",
    "         .appName(\"p6\")\n",
    "         .config('spark.jars.packages', 'com.datastax.spark:spark-cassandra-connector_2.12:3.4.0')\n",
    "         .config(\"spark.sql.extensions\", \"com.datastax.spark.connector.CassandraSparkExtensions\")\n",
    "         .getOrCreate())"
   ]
  },
  {
   "cell_type": "code",
   "execution_count": 10,
   "id": "ff356370-c3d4-470a-9861-605b91cbaf41",
   "metadata": {
    "execution": {
     "iopub.execute_input": "2023-11-20T23:49:49.536720Z",
     "iopub.status.busy": "2023-11-20T23:49:49.533721Z",
     "iopub.status.idle": "2023-11-20T23:49:50.053732Z",
     "shell.execute_reply": "2023-11-20T23:49:50.052246Z"
    }
   },
   "outputs": [],
   "source": [
    "import pandas as pd"
   ]
  },
  {
   "cell_type": "code",
   "execution_count": 11,
   "id": "290ff8e2-f945-4dba-b4a0-5a13c31c7e8f",
   "metadata": {
    "execution": {
     "iopub.execute_input": "2023-11-20T23:49:50.059235Z",
     "iopub.status.busy": "2023-11-20T23:49:50.058122Z",
     "iopub.status.idle": "2023-11-20T23:49:54.777683Z",
     "shell.execute_reply": "2023-11-20T23:49:54.776485Z"
    }
   },
   "outputs": [],
   "source": [
    "from pyspark.sql.functions import col, expr\n",
    "df = spark.read.text(\"ghcnd-stations.txt\")"
   ]
  },
  {
   "cell_type": "code",
   "execution_count": 12,
   "id": "619cfeb8-81e9-41b3-be54-1ad6078f28f1",
   "metadata": {
    "execution": {
     "iopub.execute_input": "2023-11-20T23:49:54.783839Z",
     "iopub.status.busy": "2023-11-20T23:49:54.783233Z",
     "iopub.status.idle": "2023-11-20T23:50:00.202435Z",
     "shell.execute_reply": "2023-11-20T23:50:00.201147Z"
    }
   },
   "outputs": [
    {
     "name": "stderr",
     "output_type": "stream",
     "text": [
      "\r",
      "[Stage 0:>                                                          (0 + 2) / 2]\r"
     ]
    },
    {
     "name": "stderr",
     "output_type": "stream",
     "text": [
      "\r",
      "                                                                                \r"
     ]
    },
    {
     "data": {
      "text/html": [
       "<div>\n",
       "<style scoped>\n",
       "    .dataframe tbody tr th:only-of-type {\n",
       "        vertical-align: middle;\n",
       "    }\n",
       "\n",
       "    .dataframe tbody tr th {\n",
       "        vertical-align: top;\n",
       "    }\n",
       "\n",
       "    .dataframe thead th {\n",
       "        text-align: right;\n",
       "    }\n",
       "</style>\n",
       "<table border=\"1\" class=\"dataframe\">\n",
       "  <thead>\n",
       "    <tr style=\"text-align: right;\">\n",
       "      <th></th>\n",
       "      <th>value</th>\n",
       "    </tr>\n",
       "  </thead>\n",
       "  <tbody>\n",
       "    <tr>\n",
       "      <th>0</th>\n",
       "      <td>ACW00011604  17.1167  -61.7833   10.1    ST JO...</td>\n",
       "    </tr>\n",
       "    <tr>\n",
       "      <th>1</th>\n",
       "      <td>ACW00011647  17.1333  -61.7833   19.2    ST JO...</td>\n",
       "    </tr>\n",
       "    <tr>\n",
       "      <th>2</th>\n",
       "      <td>AE000041196  25.3330   55.5170   34.0    SHARJ...</td>\n",
       "    </tr>\n",
       "    <tr>\n",
       "      <th>3</th>\n",
       "      <td>AEM00041194  25.2550   55.3640   10.4    DUBAI...</td>\n",
       "    </tr>\n",
       "    <tr>\n",
       "      <th>4</th>\n",
       "      <td>AEM00041217  24.4330   54.6510   26.8    ABU D...</td>\n",
       "    </tr>\n",
       "    <tr>\n",
       "      <th>...</th>\n",
       "      <td>...</td>\n",
       "    </tr>\n",
       "    <tr>\n",
       "      <th>123341</th>\n",
       "      <td>ZI000067969 -21.0500   29.3670  861.0    WEST ...</td>\n",
       "    </tr>\n",
       "    <tr>\n",
       "      <th>123342</th>\n",
       "      <td>ZI000067975 -20.0670   30.8670 1095.0    MASVI...</td>\n",
       "    </tr>\n",
       "    <tr>\n",
       "      <th>123343</th>\n",
       "      <td>ZI000067977 -21.0170   31.5830  430.0    BUFFA...</td>\n",
       "    </tr>\n",
       "    <tr>\n",
       "      <th>123344</th>\n",
       "      <td>ZI000067983 -20.2000   32.6160 1132.0    CHIPI...</td>\n",
       "    </tr>\n",
       "    <tr>\n",
       "      <th>123345</th>\n",
       "      <td>ZI000067991 -22.2170   30.0000  457.0    BEITB...</td>\n",
       "    </tr>\n",
       "  </tbody>\n",
       "</table>\n",
       "<p>123346 rows × 1 columns</p>\n",
       "</div>"
      ],
      "text/plain": [
       "                                                    value\n",
       "0       ACW00011604  17.1167  -61.7833   10.1    ST JO...\n",
       "1       ACW00011647  17.1333  -61.7833   19.2    ST JO...\n",
       "2       AE000041196  25.3330   55.5170   34.0    SHARJ...\n",
       "3       AEM00041194  25.2550   55.3640   10.4    DUBAI...\n",
       "4       AEM00041217  24.4330   54.6510   26.8    ABU D...\n",
       "...                                                   ...\n",
       "123341  ZI000067969 -21.0500   29.3670  861.0    WEST ...\n",
       "123342  ZI000067975 -20.0670   30.8670 1095.0    MASVI...\n",
       "123343  ZI000067977 -21.0170   31.5830  430.0    BUFFA...\n",
       "123344  ZI000067983 -20.2000   32.6160 1132.0    CHIPI...\n",
       "123345  ZI000067991 -22.2170   30.0000  457.0    BEITB...\n",
       "\n",
       "[123346 rows x 1 columns]"
      ]
     },
     "execution_count": 12,
     "metadata": {},
     "output_type": "execute_result"
    }
   ],
   "source": [
    "df.toPandas()"
   ]
  },
  {
   "cell_type": "code",
   "execution_count": 13,
   "id": "e381e5b0-aea8-48b8-a6d0-26031df8e0b4",
   "metadata": {
    "execution": {
     "iopub.execute_input": "2023-11-20T23:50:00.212279Z",
     "iopub.status.busy": "2023-11-20T23:50:00.209843Z",
     "iopub.status.idle": "2023-11-20T23:50:03.167822Z",
     "shell.execute_reply": "2023-11-20T23:50:03.166731Z"
    }
   },
   "outputs": [
    {
     "name": "stderr",
     "output_type": "stream",
     "text": [
      "\r",
      "[Stage 1:>                                                          (0 + 2) / 2]\r",
      "\r",
      "[Stage 1:=============================>                             (1 + 1) / 2]\r"
     ]
    },
    {
     "name": "stderr",
     "output_type": "stream",
     "text": [
      "\r",
      "                                                                                \r"
     ]
    },
    {
     "data": {
      "text/html": [
       "<div>\n",
       "<style scoped>\n",
       "    .dataframe tbody tr th:only-of-type {\n",
       "        vertical-align: middle;\n",
       "    }\n",
       "\n",
       "    .dataframe tbody tr th {\n",
       "        vertical-align: top;\n",
       "    }\n",
       "\n",
       "    .dataframe thead th {\n",
       "        text-align: right;\n",
       "    }\n",
       "</style>\n",
       "<table border=\"1\" class=\"dataframe\">\n",
       "  <thead>\n",
       "    <tr style=\"text-align: right;\">\n",
       "      <th></th>\n",
       "      <th>id</th>\n",
       "      <th>state</th>\n",
       "      <th>name</th>\n",
       "    </tr>\n",
       "  </thead>\n",
       "  <tbody>\n",
       "    <tr>\n",
       "      <th>0</th>\n",
       "      <td>ACW00011604</td>\n",
       "      <td></td>\n",
       "      <td>ST JOHNS COOLIDGE FLD</td>\n",
       "    </tr>\n",
       "    <tr>\n",
       "      <th>1</th>\n",
       "      <td>ACW00011647</td>\n",
       "      <td></td>\n",
       "      <td>ST JOHNS</td>\n",
       "    </tr>\n",
       "    <tr>\n",
       "      <th>2</th>\n",
       "      <td>AE000041196</td>\n",
       "      <td></td>\n",
       "      <td>SHARJAH INTER. AIRP</td>\n",
       "    </tr>\n",
       "    <tr>\n",
       "      <th>3</th>\n",
       "      <td>AEM00041194</td>\n",
       "      <td></td>\n",
       "      <td>DUBAI INTL</td>\n",
       "    </tr>\n",
       "    <tr>\n",
       "      <th>4</th>\n",
       "      <td>AEM00041217</td>\n",
       "      <td></td>\n",
       "      <td>ABU DHABI INTL</td>\n",
       "    </tr>\n",
       "    <tr>\n",
       "      <th>...</th>\n",
       "      <td>...</td>\n",
       "      <td>...</td>\n",
       "      <td>...</td>\n",
       "    </tr>\n",
       "    <tr>\n",
       "      <th>123341</th>\n",
       "      <td>ZI000067969</td>\n",
       "      <td></td>\n",
       "      <td>WEST NICHOLSON</td>\n",
       "    </tr>\n",
       "    <tr>\n",
       "      <th>123342</th>\n",
       "      <td>ZI000067975</td>\n",
       "      <td></td>\n",
       "      <td>MASVINGO</td>\n",
       "    </tr>\n",
       "    <tr>\n",
       "      <th>123343</th>\n",
       "      <td>ZI000067977</td>\n",
       "      <td></td>\n",
       "      <td>BUFFALO RANGE</td>\n",
       "    </tr>\n",
       "    <tr>\n",
       "      <th>123344</th>\n",
       "      <td>ZI000067983</td>\n",
       "      <td></td>\n",
       "      <td>CHIPINGE</td>\n",
       "    </tr>\n",
       "    <tr>\n",
       "      <th>123345</th>\n",
       "      <td>ZI000067991</td>\n",
       "      <td></td>\n",
       "      <td>BEITBRIDGE</td>\n",
       "    </tr>\n",
       "  </tbody>\n",
       "</table>\n",
       "<p>123346 rows × 3 columns</p>\n",
       "</div>"
      ],
      "text/plain": [
       "                 id state                            name\n",
       "0       ACW00011604        ST JOHNS COOLIDGE FLD         \n",
       "1       ACW00011647        ST JOHNS                      \n",
       "2       AE000041196        SHARJAH INTER. AIRP           \n",
       "3       AEM00041194        DUBAI INTL                    \n",
       "4       AEM00041217        ABU DHABI INTL                \n",
       "...             ...   ...                             ...\n",
       "123341  ZI000067969        WEST NICHOLSON                \n",
       "123342  ZI000067975        MASVINGO                      \n",
       "123343  ZI000067977        BUFFALO RANGE                 \n",
       "123344  ZI000067983        CHIPINGE                      \n",
       "123345  ZI000067991        BEITBRIDGE                    \n",
       "\n",
       "[123346 rows x 3 columns]"
      ]
     },
     "execution_count": 13,
     "metadata": {},
     "output_type": "execute_result"
    }
   ],
   "source": [
    "from pyspark.sql.functions import col, expr\n",
    "df = df.select(\n",
    "    expr(\"substring(value, 0, 11)\").alias(\"id\"),\n",
    "    expr(\"substring(value, 39, 2)\").alias(\"state\"),\n",
    "    expr(\"substring(value, 42, 30)\").alias(\"name\"),\n",
    ")\n",
    "df.toPandas()"
   ]
  },
  {
   "cell_type": "code",
   "execution_count": 14,
   "id": "e5861ae5-1925-425c-8b05-f0c5c7065932",
   "metadata": {
    "execution": {
     "iopub.execute_input": "2023-11-20T23:50:03.172919Z",
     "iopub.status.busy": "2023-11-20T23:50:03.171846Z",
     "iopub.status.idle": "2023-11-20T23:50:03.215939Z",
     "shell.execute_reply": "2023-11-20T23:50:03.214713Z"
    }
   },
   "outputs": [
    {
     "data": {
      "text/plain": [
       "DataFrame[id: string, state: string, name: string]"
      ]
     },
     "execution_count": 14,
     "metadata": {},
     "output_type": "execute_result"
    }
   ],
   "source": [
    "df = df.where(df.state == 'WI')\n",
    "df"
   ]
  },
  {
   "cell_type": "code",
   "execution_count": 15,
   "id": "a881e0c6-17a3-4b1a-afc6-d3cb3ab01f45",
   "metadata": {
    "execution": {
     "iopub.execute_input": "2023-11-20T23:50:03.220153Z",
     "iopub.status.busy": "2023-11-20T23:50:03.219701Z",
     "iopub.status.idle": "2023-11-20T23:50:03.887069Z",
     "shell.execute_reply": "2023-11-20T23:50:03.885645Z"
    }
   },
   "outputs": [],
   "source": [
    "data = df.collect()"
   ]
  },
  {
   "cell_type": "code",
   "execution_count": 16,
   "id": "099f5954-c592-47a3-b274-86ff7acf1e24",
   "metadata": {
    "execution": {
     "iopub.execute_input": "2023-11-20T23:50:03.895093Z",
     "iopub.status.busy": "2023-11-20T23:50:03.892694Z",
     "iopub.status.idle": "2023-11-20T23:50:14.609103Z",
     "shell.execute_reply": "2023-11-20T23:50:14.607639Z"
    }
   },
   "outputs": [],
   "source": [
    "insert_df = cass.prepare(\"\"\"\n",
    "INSERT INTO weather.stations (id, name)\n",
    "VALUES (?, ?)\n",
    "\"\"\")\n",
    "\n",
    "for row in data:\n",
    "    cass.execute(insert_df, (row.id, row.name))"
   ]
  },
  {
   "cell_type": "code",
   "execution_count": 17,
   "id": "ed1b8496-0da6-4e3f-bd9e-7dae74a2a79e",
   "metadata": {
    "execution": {
     "iopub.execute_input": "2023-11-20T23:50:14.621297Z",
     "iopub.status.busy": "2023-11-20T23:50:14.616575Z",
     "iopub.status.idle": "2023-11-20T23:50:14.784587Z",
     "shell.execute_reply": "2023-11-20T23:50:14.783436Z"
    }
   },
   "outputs": [
    {
     "data": {
      "text/plain": [
       "1313"
      ]
     },
     "execution_count": 17,
     "metadata": {},
     "output_type": "execute_result"
    }
   ],
   "source": [
    "#q1\n",
    "count_stations = cass.execute(\"\"\"\n",
    "SELECT COUNT(*)\n",
    "FROM weather.stations\n",
    "\"\"\")\n",
    "count_stations.one()[0]"
   ]
  },
  {
   "cell_type": "code",
   "execution_count": 18,
   "id": "7ed4751c-6743-4bfc-bca8-30b91eff4b8a",
   "metadata": {
    "execution": {
     "iopub.execute_input": "2023-11-20T23:50:14.790734Z",
     "iopub.status.busy": "2023-11-20T23:50:14.789601Z",
     "iopub.status.idle": "2023-11-20T23:50:14.825430Z",
     "shell.execute_reply": "2023-11-20T23:50:14.822923Z"
    }
   },
   "outputs": [
    {
     "data": {
      "text/plain": [
       "'MADISON DANE CO RGNL AP       '"
      ]
     },
     "execution_count": 18,
     "metadata": {},
     "output_type": "execute_result"
    }
   ],
   "source": [
    "#q2\n",
    "stations = cass.execute(\"\"\"\n",
    "SELECT name\n",
    "FROM weather.stations\n",
    "WHERE id = 'USW00014837'\n",
    "\"\"\")\n",
    "stations.one()[0]"
   ]
  },
  {
   "cell_type": "code",
   "execution_count": 19,
   "id": "901d5751-8b15-4e66-b4d8-0d19d05a8e31",
   "metadata": {
    "execution": {
     "iopub.execute_input": "2023-11-20T23:50:14.831843Z",
     "iopub.status.busy": "2023-11-20T23:50:14.831387Z",
     "iopub.status.idle": "2023-11-20T23:50:14.895182Z",
     "shell.execute_reply": "2023-11-20T23:50:14.893983Z"
    }
   },
   "outputs": [
    {
     "data": {
      "text/plain": [
       "-9014250178872933741"
      ]
     },
     "execution_count": 19,
     "metadata": {},
     "output_type": "execute_result"
    }
   ],
   "source": [
    "#q3\n",
    "stations = cass.execute(\"\"\"\n",
    "SELECT token(id)\n",
    "FROM weather.stations\n",
    "WHERE id = 'USC00470273'\n",
    "\"\"\")\n",
    "stations.one()[0]"
   ]
  },
  {
   "cell_type": "code",
   "execution_count": 20,
   "id": "17ae21b5-2bf3-4104-aefa-c00825044c54",
   "metadata": {
    "execution": {
     "iopub.execute_input": "2023-11-20T23:50:14.901636Z",
     "iopub.status.busy": "2023-11-20T23:50:14.900959Z",
     "iopub.status.idle": "2023-11-20T23:50:15.035119Z",
     "shell.execute_reply": "2023-11-20T23:50:15.033768Z"
    }
   },
   "outputs": [
    {
     "data": {
      "text/plain": [
       "-9008888552508841246"
      ]
     },
     "execution_count": 20,
     "metadata": {},
     "output_type": "execute_result"
    }
   ],
   "source": [
    "#q4 @@@@@@@@@@@@@@@@@@@Handle the case where the ring \"wraps around\" \n",
    "stations = cass.execute(\"\"\"\n",
    "SELECT token(id)\n",
    "FROM weather.stations\n",
    "WHERE token(id) > token('USC00470273')\n",
    "\"\"\")\n",
    "stations.one()[0]"
   ]
  },
  {
   "cell_type": "code",
   "execution_count": null,
   "id": "c2ac4d5a-e21e-4fe2-8193-a096b428264e",
   "metadata": {},
   "outputs": [],
   "source": []
  }
 ],
 "metadata": {
  "kernelspec": {
   "display_name": "Python 3 (ipykernel)",
   "language": "python",
   "name": "python3"
  },
  "language_info": {
   "codemirror_mode": {
    "name": "ipython",
    "version": 3
   },
   "file_extension": ".py",
   "mimetype": "text/x-python",
   "name": "python",
   "nbconvert_exporter": "python",
   "pygments_lexer": "ipython3",
   "version": "3.10.12"
  }
 },
 "nbformat": 4,
 "nbformat_minor": 5
}
